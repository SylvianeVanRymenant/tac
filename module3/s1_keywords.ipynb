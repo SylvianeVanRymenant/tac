{
 "cells": [
  {
   "cell_type": "markdown",
   "metadata": {},
   "source": [
    "# Extraction de Keywords"
   ]
  },
  {
   "cell_type": "markdown",
   "metadata": {},
   "source": [
    "## Imports"
   ]
  },
  {
   "cell_type": "code",
   "execution_count": 1,
   "metadata": {},
   "outputs": [],
   "source": [
    "import os\n",
    "import yake"
   ]
  },
  {
   "cell_type": "markdown",
   "metadata": {},
   "source": [
    "## Extraire les mots clés d'un document avec Yake"
   ]
  },
  {
   "cell_type": "markdown",
   "metadata": {},
   "source": [
    "https://github.com/LIAAD/yake"
   ]
  },
  {
   "cell_type": "code",
   "execution_count": 2,
   "metadata": {},
   "outputs": [
    {
     "data": {
      "text/plain": [
       "<yake.yake.KeywordExtractor at 0x19b391771f0>"
      ]
     },
     "execution_count": 2,
     "metadata": {},
     "output_type": "execute_result"
    }
   ],
   "source": [
    "# Instantier l'extracteur de mots clés\n",
    "kw_extractor = yake.KeywordExtractor(lan=\"fr\", top=50)\n",
    "kw_extractor"
   ]
  },
  {
   "cell_type": "code",
   "execution_count": 3,
   "metadata": {},
   "outputs": [],
   "source": [
    "# Lister les Fichiers\n",
    "data_path = \"../data/txt/\"\n",
    "files = os.listdir(data_path)"
   ]
  },
  {
   "cell_type": "code",
   "execution_count": 4,
   "metadata": {},
   "outputs": [
    {
     "data": {
      "text/plain": [
       "7936"
      ]
     },
     "execution_count": 4,
     "metadata": {},
     "output_type": "execute_result"
    }
   ],
   "source": [
    "# Imprimer le nombre de fichiers identifiés\n",
    "len(files)"
   ]
  },
  {
   "cell_type": "code",
   "execution_count": 8,
   "metadata": {},
   "outputs": [
    {
     "data": {
      "text/plain": [
       "['KB_JB838_1941-01-02_01-00005.txt',\n",
       " 'KB_JB838_1941-01-08_01-00003.txt',\n",
       " 'KB_JB838_1941-01-11_01-00003.txt',\n",
       " 'KB_JB838_1941-01-17_01-00006.txt',\n",
       " 'KB_JB838_1941-01-18_01-00008.txt',\n",
       " 'KB_JB838_1941-01-21_01-00007.txt',\n",
       " 'KB_JB838_1941-01-25_01-00010.txt',\n",
       " 'KB_JB838_1941-01-27_01-00001.txt',\n",
       " 'KB_JB838_1941-01-28_01-00005.txt',\n",
       " 'KB_JB838_1941-01-29_01-00002.txt',\n",
       " 'KB_JB838_1941-02-04_01-00008.txt',\n",
       " 'KB_JB838_1941-02-06_01-00003.txt',\n",
       " 'KB_JB838_1941-02-08_01-00012.txt',\n",
       " 'KB_JB838_1941-02-18_01-00003.txt',\n",
       " 'KB_JB838_1941-02-21_01-00004.txt',\n",
       " 'KB_JB838_1941-02-25_01-00004.txt',\n",
       " 'KB_JB838_1941-03-15_01-00005.txt',\n",
       " 'KB_JB838_1941-03-17_01-00006.txt',\n",
       " 'KB_JB838_1941-03-18_01-00006.txt',\n",
       " 'KB_JB838_1941-03-19_01-00004.txt',\n",
       " 'KB_JB838_1941-03-20_01-00002.txt',\n",
       " 'KB_JB838_1941-03-24_01-00003.txt',\n",
       " 'KB_JB838_1941-03-28_01-00003.txt',\n",
       " 'KB_JB838_1941-03-28_01-00006.txt',\n",
       " 'KB_JB838_1941-04-01_01-00003.txt',\n",
       " 'KB_JB838_1941-04-03_01-00012.txt',\n",
       " 'KB_JB838_1941-04-04_01-00008.txt',\n",
       " 'KB_JB838_1941-04-05_01-00007.txt',\n",
       " 'KB_JB838_1941-04-05_01-00008.txt',\n",
       " 'KB_JB838_1941-04-08_01-00007.txt',\n",
       " 'KB_JB838_1941-04-08_01-00010.txt',\n",
       " 'KB_JB838_1941-04-10_01-00002.txt',\n",
       " 'KB_JB838_1941-04-17_01-00008.txt',\n",
       " 'KB_JB838_1941-04-17_01-00011.txt',\n",
       " 'KB_JB838_1941-04-18_01-00007.txt',\n",
       " 'KB_JB838_1941-04-21_01-00002.txt',\n",
       " 'KB_JB838_1941-04-21_01-00007.txt',\n",
       " 'KB_JB838_1941-04-26_01-00002.txt',\n",
       " 'KB_JB838_1941-04-26_01-00013.txt',\n",
       " 'KB_JB838_1941-04-28_01-00001.txt',\n",
       " 'KB_JB838_1941-04-29_01-00002.txt',\n",
       " 'KB_JB838_1941-04-29_01-00007.txt',\n",
       " 'KB_JB838_1941-05-01_01-00002.txt',\n",
       " 'KB_JB838_1941-05-01_01-00008.txt',\n",
       " 'KB_JB838_1941-05-07_01-00005.txt',\n",
       " 'KB_JB838_1941-05-08_01-00005.txt',\n",
       " 'KB_JB838_1941-05-15_01-00002.txt',\n",
       " 'KB_JB838_1941-05-17_01-00003.txt',\n",
       " 'KB_JB838_1941-05-17_01-00010.txt',\n",
       " 'KB_JB838_1941-05-19_01-00001.txt',\n",
       " 'KB_JB838_1941-05-19_01-00003.txt',\n",
       " 'KB_JB838_1941-05-26_01-00002.txt',\n",
       " 'KB_JB838_1941-05-28_01-00007.txt',\n",
       " 'KB_JB838_1941-06-04_01-00008.txt',\n",
       " 'KB_JB838_1941-06-14_01-00010.txt',\n",
       " 'KB_JB838_1941-06-23_01-00004.txt',\n",
       " 'KB_JB838_1941-06-26_01-00008.txt',\n",
       " 'KB_JB838_1941-07-09_01-00001.txt',\n",
       " 'KB_JB838_1941-07-16_01-00006.txt',\n",
       " 'KB_JB838_1941-07-17_01-00004.txt',\n",
       " 'KB_JB838_1941-07-17_01-00008.txt',\n",
       " 'KB_JB838_1941-07-18_01-00004.txt',\n",
       " 'KB_JB838_1941-07-18_01-00006.txt',\n",
       " 'KB_JB838_1941-07-19_01-00002.txt',\n",
       " 'KB_JB838_1941-07-26_01-00004.txt',\n",
       " 'KB_JB838_1941-07-31_01-00002.txt',\n",
       " 'KB_JB838_1941-08-06_01-00001.txt',\n",
       " 'KB_JB838_1941-08-09_01-00005.txt',\n",
       " 'KB_JB838_1941-08-12_01-00007.txt',\n",
       " 'KB_JB838_1941-08-12_01-00008.txt',\n",
       " 'KB_JB838_1941-08-16_01-00008.txt',\n",
       " 'KB_JB838_1941-08-22_01-00007.txt',\n",
       " 'KB_JB838_1941-08-28_01-00008.txt',\n",
       " 'KB_JB838_1941-08-30_01-00002.txt',\n",
       " 'KB_JB838_1941-09-01_01-00001.txt',\n",
       " 'KB_JB838_1941-09-01_01-00002.txt',\n",
       " 'KB_JB838_1941-09-06_01-00001.txt',\n",
       " 'KB_JB838_1941-09-15_01-00007.txt',\n",
       " 'KB_JB838_1941-09-19_01-00002.txt',\n",
       " 'KB_JB838_1941-09-19_01-00003.txt',\n",
       " 'KB_JB838_1941-09-19_01-00004.txt',\n",
       " 'KB_JB838_1941-09-22_01-00006.txt',\n",
       " 'KB_JB838_1941-09-28_01-00005.txt',\n",
       " 'KB_JB838_1941-09-30_01-00001.txt',\n",
       " 'KB_JB838_1941-10-02_01-00001.txt',\n",
       " 'KB_JB838_1941-10-11_01-00002.txt',\n",
       " 'KB_JB838_1941-10-14_01-00002.txt',\n",
       " 'KB_JB838_1941-10-17_01-00001.txt',\n",
       " 'KB_JB838_1941-10-20_01-00002.txt',\n",
       " 'KB_JB838_1941-10-27_01-00003.txt',\n",
       " 'KB_JB838_1941-11-05_01-00001.txt',\n",
       " 'KB_JB838_1941-11-08_01-00002.txt',\n",
       " 'KB_JB838_1941-11-22_01-00001.txt',\n",
       " 'KB_JB838_1941-11-26_01-00004.txt',\n",
       " 'KB_JB838_1941-11-26_01-00005.txt',\n",
       " 'KB_JB838_1941-12-01_01-00002.txt',\n",
       " 'KB_JB838_1941-12-16_01-00002.txt',\n",
       " 'KB_JB838_1941-12-16_01-00005.txt',\n",
       " 'KB_JB838_1941-12-20_01-00004.txt',\n",
       " 'KB_JB838_1941-12-30_01-00006.txt']"
      ]
     },
     "execution_count": 8,
     "metadata": {},
     "output_type": "execute_result"
    }
   ],
   "source": [
    "# Les dix premiers fichiers\n",
    "files[4936:5036]"
   ]
  },
  {
   "cell_type": "code",
   "execution_count": 15,
   "metadata": {},
   "outputs": [
    {
     "data": {
      "text/plain": [
       "'KB_JB838_1941-01-18_01-00008.txt'"
      ]
     },
     "execution_count": 15,
     "metadata": {},
     "output_type": "execute_result"
    }
   ],
   "source": [
    "# Choisir un fichier\n",
    "this_file = files[4940]\n",
    "this_file"
   ]
  },
  {
   "cell_type": "code",
   "execution_count": 20,
   "metadata": {},
   "outputs": [
    {
     "data": {
      "text/plain": [
       "\"LE SOIR! Vous pouvez amasser une fortune t en vous amusant ! Le* timbres constituent à la fois le délassement dont vous avez besoin, le placement sûr et rémunérateur. Uses le nouveau numéro, qui a paru le 15 janvier, du BALASSE MAGAZINE Revue phûathélique illustrée de luxe, qui vous donnera : A* des indications précises sur le marché du timbre et ses tendances; des renseignements sur ce que vous devez acheter, fruit d'une expérience consommée et de transactions quotidiennes; B. des rubriques que vous lirez et méditerez : Que (Tolt-on acheter ? lie coin du spéculateur. Conseils aux jeunes, etc., etc. C. des articles techniques dus à nos meilleurs spécialistes et des articles documentaires, qui vous intéresseront, notamment : ■Les marques postales belges de 1849 à 1914, Une tribune libre, des échos, des communiqués. La revue des revues, une blbllograohie, les nouveautés. Pour la première fois : Le magazine des jeunes. D. le troisième supplément à notre : Grand Catalogue Spécial illustré, ouvrage encyclopédique do 544 pages (1,000 clichés), classant et cotant tous les timbres-types, nuances, variétés, oblitérations, etc., do BELGIQUE et du CONGO BELGE, des renseignements sur nos catalogues - prix courants Illustrés « Prinet » de Belgique, Congo Belge. Luxembourg. E. des OFFRES SPECIALES vous permettant d'ACQUÉ RIR AVANTAGEUSEMENT : des timbres de tous pays, classiques et raretés modernes, en isolés, paires, bandes et blocs, et notamment de : Belgique et Congo Belge, vieux Etats allemands et italiens, Pays-Bas, Luxembourg, Grande-Bretagne et colonies anglaises, France, Espagne, Suisse, etc. des collections montées avec soin et formant des ensembles de grand avenir, etc. F. des offres utiles en albums et accessoires philatéliques. INCROYABLE ! Le prix de l'abonnement à cette superbe revue n'est que de 20 FRANCS PAR AN ! DEMANDEZ DE SUITE un spécimen du prochain numéro ■ (tirage limité !) au PRIX DE 5 FRANCS (à nous verser en timbres, en espèces ou par virement). WlLLY BA\""
      ]
     },
     "execution_count": 20,
     "metadata": {},
     "output_type": "execute_result"
    }
   ],
   "source": [
    "# Récupérer le texte du fichier\n",
    "text = open(os.path.join(data_path, this_file), 'r',encoding=\"utf-8\").read()\n",
    "text[:2000]"
   ]
  },
  {
   "cell_type": "code",
   "execution_count": 21,
   "metadata": {},
   "outputs": [
    {
     "data": {
      "text/plain": [
       "[('janvier', 0.0020463390355886404),\n",
       " ('vente publique', 0.0022191923219687893),\n",
       " ('RUE', 0.003171407342846836),\n",
       " ('Notaire', 0.00419505951206072),\n",
       " ('vente', 0.0060461656498037196),\n",
       " ('BRUXELLES', 0.006165237082971304),\n",
       " ('ANVERS Vente publique', 0.006494905986844676),\n",
       " ('Anvers', 0.007088485184107256),\n",
       " ('VENTE PUBLIQUE D’UNE', 0.007386806024651536),\n",
       " ('Etude', 0.009209075415441277),\n",
       " ('salle', 0.00988105504419739),\n",
       " ('Notaires', 0.011536413658166983),\n",
       " ('publique', 0.012372137582795055),\n",
       " ('heures', 0.012749840129725198),\n",
       " ('heures VENTE PUBLIQUE', 0.012819148674389203),\n",
       " ('Etude de Maître', 0.013605055693516244),\n",
       " ('MAISON', 0.01517599310574764),\n",
       " ('Maître', 0.016468835624314775),\n",
       " ('Jodoigne Vente Publique', 0.017020844918695873),\n",
       " ('BELLE', 0.017298970028113966),\n",
       " ('MEUBLES', 0.020063227990495376),\n",
       " ('Jardin', 0.02074031834463099),\n",
       " ('Grand', 0.0212010808363197),\n",
       " ('Jour', 0.021483101293290396),\n",
       " ('Etude du Notaire', 0.02435795990037816),\n",
       " ('COMMERCE', 0.024463504358322643),\n",
       " ('coucher', 0.02568566985959759),\n",
       " ('chêne', 0.02572071925671652),\n",
       " ('Notaire René', 0.026283509463241258),\n",
       " ('siège social', 0.027169701693945524),\n",
       " ('ventes', 0.02720774542411674),\n",
       " ('mardi', 0.027284208458250546),\n",
       " ('ANVERS Vente', 0.027342636584682452),\n",
       " ('SOY Vente publique', 0.028037350183091204),\n",
       " ('EXPOSITION', 0.028264412058030153),\n",
       " ('BRUXELLES Vente', 0.028997869744884934),\n",
       " ('noyer', 0.02927987197260897),\n",
       " ('jours', 0.029539264278274295),\n",
       " ('prix', 0.02967736284034462),\n",
       " ('Notaire COLS', 0.030106217312060618),\n",
       " ('Chambre', 0.030855640632622663),\n",
       " ('beaux', 0.031198061363795652),\n",
       " ('renseignements', 0.03136509546312982),\n",
       " ('BELLE PROPRIETE', 0.031422614065443395),\n",
       " ('comprenant', 0.03160615490771386),\n",
       " ('mercredi', 0.03223089420120517),\n",
       " ('lundi', 0.03224671558136404),\n",
       " ('notaire DANDOY', 0.03252105016258598),\n",
       " ('LONGUE RUE', 0.03284377433162436),\n",
       " ('Société', 0.033324927994448604)]"
      ]
     },
     "execution_count": 21,
     "metadata": {},
     "output_type": "execute_result"
    }
   ],
   "source": [
    "# Extraire les mots clés de ce texte\n",
    "keywords = kw_extractor.extract_keywords(text)\n",
    "keywords"
   ]
  },
  {
   "cell_type": "code",
   "execution_count": 22,
   "metadata": {},
   "outputs": [
    {
     "data": {
      "text/plain": [
       "['vente publique',\n",
       " 'Notaire René',\n",
       " 'siège social',\n",
       " 'ANVERS Vente',\n",
       " 'BRUXELLES Vente',\n",
       " 'Notaire COLS',\n",
       " 'BELLE PROPRIETE',\n",
       " 'notaire DANDOY',\n",
       " 'LONGUE RUE']"
      ]
     },
     "execution_count": 22,
     "metadata": {},
     "output_type": "execute_result"
    }
   ],
   "source": [
    "# Ne garder que les bigrammes\n",
    "kept = []\n",
    "for kw, score in keywords:\n",
    "    words = kw.split()\n",
    "    if len(words) == 2:\n",
    "        kept.append(kw)\n",
    "kept"
   ]
  },
  {
   "cell_type": "markdown",
   "metadata": {},
   "source": [
    "## Faire la même opération sur tous les documents"
   ]
  },
  {
   "cell_type": "code",
   "execution_count": 14,
   "metadata": {},
   "outputs": [
    {
     "name": "stdout",
     "output_type": "stream",
     "text": [
      "KB_JB838_1941-01-02_01-00005.txt mentions these keywords: Achet réduit, PRESSE QUOTIDIENNE, Ville Anvers, Vendeur réduit, réduit Soie, demeurant rue, Poirier Achet, titre Intérêts, Vesdre Achet, réduit Dette, Alfred DUBOIS, réduit Trust...\n",
      "KB_JB838_1941-01-08_01-00003.txt mentions these keywords: Popolo d'Italia, S'malie italienne, l’amiral Darlan, avions ennemis, nouveau Conseil, navires anglais, char d’assaut...\n",
      "KB_JB838_1941-01-11_01-00003.txt mentions these keywords: lord Halifax, France Berlin, président Roosevelt, avion ennemi, Reich allemand, matériel d’armement, maréchal Pétain, avions ennemis...\n",
      "KB_JB838_1941-01-17_01-00006.txt mentions these keywords: AGENCE ROSSEL, Faire offre, Ecrire Agence, ROSSEL Bruxelle, LOUER app, cherche place, Prix mod, Ecrire prix, tMhe Farta...\n",
      "KB_JB838_1941-01-18_01-00008.txt mentions these keywords: vente publique, Notaire René, siège social, ANVERS Vente, BRUXELLES Vente, Notaire COLS, BELLE PROPRIETE, notaire DANDOY, LONGUE RUE...\n",
      "KB_JB838_1941-01-21_01-00007.txt mentions these keywords: conduite intérieure, prie d'annoncer, rue Van, rue Royale, VENTE PUBLIQUE, tient lieu, Société Générale, présent avis, stricte intimité, lieu Jeudi, avis tient...\n",
      "KB_JB838_1941-01-25_01-00010.txt mentions these keywords: AGENCE ROSSEL, SOMMES ACHETEURS, Faire offre, haut prix, BRUXELLES Tél, SOIR JBKÊL, rue Bara, SOMMES VENDEURS, ACHETEURS comptant, Grand choix...\n",
      "KB_JB838_1941-01-27_01-00001.txt mentions these keywords: LOUVAIN ANNONCES, l'industrie allemande, comte Csaky, RUE ROYALE, guerre allemand, Galerie Royale, guerre mondiale, Affaires étrangères...\n",
      "KB_JB838_1941-01-28_01-00005.txt mentions these keywords: comité exécutif, BELGIQUE FOOTBALL, FOOTBALL BRABANÇON, BRABANÇON BQXE, nous prie, Mlle Van, COMITÉS COMITÉ, prie d’annoncer, Van Lancker, Commission nationale...\n",
      "KB_JB838_1941-01-29_01-00002.txt mentions these keywords: Maison communale, Véni fin, L’Office Central, Mme Lambert, carte spéciale, savon fin, carte d’Habillement, d’une carte...\n",
      "KB_JB838_1941-02-04_01-00008.txt mentions these keywords: Agence Rossel, Ecrire Agence, Rossel numéro, cherche place, Faire offre...\n",
      "KB_JB838_1941-02-06_01-00003.txt mentions these keywords: coopération italo-allemande, VirpinJo Gayda, Gayda parle, Giornale d'Italia, lord Halifax, Etats belligérants, gouvernement français...\n",
      "KB_JB838_1941-02-08_01-00012.txt mentions these keywords: chair jaune, jaune pâle, gale ordinaire, yeux superficiels, Variétés tardives, variété Bintje, GALE NOIRE, Lés tubercules...\n",
      "KB_JB838_1941-02-18_01-00003.txt mentions these keywords: Golfe Per, Affaires étrangères, INDES KOWEÏT, golfe Persique, gouvernement britannique, Koweït s’est, d’Ibn Saud...\n",
      "KB_JB838_1941-02-21_01-00004.txt mentions these keywords: Acheteur réduit, Vendeur réduit, Ville Anvers, BRUXELLES Vendredi, réduit El.de, réduit Bruxelles, PROGRAMME FLAMAND...\n",
      "KB_JB838_1941-02-25_01-00004.txt mentions these keywords: Acheteur réduit, Ville Anvers, Achet réduit, Vendeur réduit, fibres synthétiques, l’Europe continentale...\n",
      "KB_JB838_1941-03-15_01-00005.txt mentions these keywords: mètres nage, dimanche dernier, Van Beveren, Van Beneden, Van Haelen, Van Bossuyt, Van Hoegaerden, nage libre, Van Landeghem, Grand-Prix Van, Van Put...\n",
      "KB_JB838_1941-03-17_01-00006.txt mentions these keywords: Van Hemelryck, présent avis, bat Van, Fresh Air, nage libre, SOCIETE ANONYME, Royu Ane, Chat Botté, Van Brée, prie d'annoncer, DIVISION III, avis tient, Jean Van, bat Maccabi, Patrla bat...\n",
      "KB_JB838_1941-03-18_01-00006.txt mentions these keywords: société anonyme, CHRONIQUE FISCALE, d’un commerce, PROGRAMME FLAMAND, programme français, langue allemande, d'une société, cachet allemand...\n",
      "KB_JB838_1941-03-19_01-00004.txt mentions these keywords: Acheteur réduit, Vendeur réduit, Achet réduit, réduit Acheteur, Ville Anvers...\n",
      "KB_JB838_1941-03-20_01-00002.txt mentions these keywords: Office Central, offices centraux, groupements économiques, Corporation Nationale, groupements généraux, suspension disciplinaire, groupements professionnels, Affaires économiques, papier Reprééentea-vous, dosage minutieux...\n",
      "KB_JB838_1941-03-24_01-00003.txt mentions these keywords: Affaires étrangères, ministre japonais, navires marchands, grandes puissances, Conseil national, avions allemands, allemand Berlin, l’Atlantique nord, Berlin Moscou, presse allemande, pacte tripartite...\n",
      "KB_JB838_1941-03-28_01-00003.txt mentions these keywords: Affaires étrangères, von Rlbbentrop, LETTRE D’ITALIE, Matsuoka Berlin, Communiqué italien, Matsuoka Rome, notrX correspondant...\n",
      "KB_JB838_1941-03-28_01-00006.txt mentions these keywords: AGENCE ROSSEL, petite maison, louer maison, Prix mod...\n",
      "KB_JB838_1941-04-01_01-00003.txt mentions these keywords: gouvernement allemand, convoi français, gouvernement yougoslave, politique croate, entreprises agricoles, côté allemand, villages allemands, village allemand, gouvernement français, L’agriculture allemande...\n",
      "KB_JB838_1941-04-03_01-00012.txt mentions these keywords: Rytlune J'çxposaisdans, lESom JEUDI, CULTURE CINÉMATOGRAPHIQUE, nouveau film, film possède, film parlant, style cinématographique, Ménage moderne, films allemands, Hans Moser, grands films, grand film, précédent article, d’un film, Petit Chocolatier, film Heinz, l’eau salée...\n",
      "KB_JB838_1941-04-04_01-00008.txt mentions these keywords: TOUR FINAL, Van den, DIVISION RESERVE, DIVISION SUPERIEURE, DIVISION SCOLAIRE, Star Club, Paul Van, Van Overloop, AVRIL Tour...\n",
      "KB_JB838_1941-04-05_01-00007.txt mentions these keywords: BELLE MAISON, BONNE MAISON, dit notaire, notaire JACOBS, Adjudication définitive, BRUXELLES Bonne, BRUXELLES MAISON...\n",
      "KB_JB838_1941-04-05_01-00008.txt mentions these keywords: notaire VAN, BONNE MAISON, dit notaire, Ledit Notaire, BELLE MAISON, maison d’habitation, VAN BENEDEN, notaire Emile, VENTE PUBLIQUE...\n",
      "KB_JB838_1941-04-08_01-00007.txt mentions these keywords: siège social, Société Générale, générale ordinaire, SOCIETE ANONYME, Nominations statutaire, l’assemblée générale, lea Jours...\n",
      "KB_JB838_1941-04-08_01-00010.txt mentions these keywords: Edmond Picard, qu’Edmond Picard, d'Edmond Picard, Picard tint, ouvrier belge, Stroult veut, Picard PROPOS, Picard s’écriait, jeune ouvrier, d’un Jeune...\n",
      "KB_JB838_1941-04-10_01-00002.txt mentions these keywords: Foyer Léopold, Léopold III, Banque Roth, cblldde Parla, marché noir, maison Rothschild, Camille Roskam, Mlle Jascinsky, Marcel Prévost, archives Rothschild, Musique Nationale, d’un jeune, archivés scellées...\n",
      "KB_JB838_1941-04-17_01-00008.txt mentions these keywords: Agence Rossel, Ecrire Agence, LOUER maison, rue Royale, l'Agence Rossel, VENDRE maison, LOUER APP...\n",
      "KB_JB838_1941-04-17_01-00011.txt mentions these keywords: FAMEUX RECEPTEURS, bon état, HAUT PRIX, SCHAUB RADIO, CAMIONS Ford, Faire offre, RUE BROGNIEZ, ACHAT VOITURES, ACHETEUR voiture, Voiture Chevrolet...\n",
      "KB_JB838_1941-04-18_01-00007.txt mentions these keywords: haut prix, Faire offre, Agence Rossel, ACHAT VOITURES, Ecrire prix, rue Blaes, Ecrire Agence...\n",
      "KB_JB838_1941-04-21_01-00002.txt mentions these keywords: francs d’amende, Llévln Bauwens, Bauwens mettait, francs qu’il, sait Dana, Tribunal correctionnel, francs ici, Sftoo francs, rapportée d'Angleterre...\n",
      "KB_JB838_1941-04-21_01-00007.txt mentions these keywords: BELGO KATANGA, Société Anonyme, maison commerce, louer maison, siège social, Agence Rossel, Société Générale, Bonne maison, beau Jardin, anonyme Habile, louer belle...\n",
      "KB_JB838_1941-04-26_01-00002.txt mentions these keywords: Quatuor Gertler, Jules Volant, Chapelle Musicale, parce qu’il, Reine Elisabeth, René Volant, littéra lemeot, Cour suprême...\n",
      "KB_JB838_1941-04-26_01-00013.txt mentions these keywords: bon état, Agence ROSSEL, Ecrire Agence, TRANSPORTS Camions, vend Ford, rue d’Ecosse, parfait état, HAUT PRIX, ACHETEUR Voiture, BRUXELLES rue...\n",
      "KB_JB838_1941-04-28_01-00001.txt mentions these keywords: RUE ROYALE, qu’il faut, mouvement wallon, mouvements wallons, d’un grand, conscience wallon, communauté populaire, Petite Galerie, National Wallon, Nationaliste Wallon, Photo Sipho...\n",
      "KB_JB838_1941-04-29_01-00002.txt mentions these keywords: jardins ouvriers, francs d’amende, Mme Beudet, loyer annuel, Théâtre Royal, Antoine Pétain, D’UN PROJET, Jean Sarment, d’une Mme, SECOURS NATIONAL...\n",
      "KB_JB838_1941-04-29_01-00007.txt mentions these keywords: Agence Rossel, acheteur maison, belle maison, vendre maison, l'AGENCE ROSSEL, Rossel sou, petite maison...\n",
      "KB_JB838_1941-05-01_01-00002.txt mentions these keywords: Ifc Vsf, comédiens routiers, CHRONIQUE JURIDIQUE, Ult enfin, servitudes continues, soient Impo, Gianni Schicchi, Théâtre Molière, Code Civil, roitde propriété...\n",
      "KB_JB838_1941-05-01_01-00008.txt mentions these keywords: Brux. III, Cent-soixante aéromodelistes, Ccnt-sobamtc aéromodnlistes, Van Overloop, White Star, mais Ixelles, d'Etterbeek Ccnt-sobamtc...\n",
      "KB_JB838_1941-05-07_01-00005.txt mentions these keywords: AGENCE ROSSEL, Ecrire AGENCE, l’AGENCE ROSSEL, Bruxelles dem, Jeune fille, appart. mod, chambre garnie, CHERCHE APPART...\n",
      "KB_JB838_1941-05-08_01-00005.txt mentions these keywords: Socialisme national, mouvement ouvrier, Premior Mai, socialisme belge, problème social, Mais c'est, numéro spécial, SOCIALISME ALLEMAND, Mai d’un, ordre nouveau, mouvement socialiste, œuvre doctrinale...\n",
      "KB_JB838_1941-05-15_01-00002.txt mentions these keywords: CHRONIQUE JURIDIQUE, textes légaux, Mme Nelly...\n",
      "KB_JB838_1941-05-17_01-00003.txt mentions these keywords: Maréchal Pétain, peuple français, avions britanniques, navires français, prince Nicolas, roi Nicolas, Roosevelt Vichy, Reich Vichy...\n",
      "KB_JB838_1941-05-17_01-00010.txt mentions these keywords: VENTE PUBLIQUE, Siège social, SOCIETE ANONYME, Société anonyme, Bruxelles Vente, capital social, générale extraordinaire, conseil d’administration, BRUXELLES Siège, l'assemblée générale, générale ordinaire, rassemblée générale, ANONYME Siège...\n",
      "KB_JB838_1941-05-19_01-00001.txt mentions these keywords: van Beethoven, RUE ROYALE, Radio City, Caroline van, allas van, exposition Van, grand Beethoven, Sweet Water...\n",
      "KB_JB838_1941-05-19_01-00003.txt mentions these keywords: gouvernement croate, gouvernement français, maréchal Pétain, forces armées, Maison Blanche, politique française, SOIR LETTRE, problème juif, Pétain Vichy, gouvernement Irakien, gouvernements italien, l’amiral Darlan, Fauzi Kaukji, navires français, cours d’une...\n",
      "KB_JB838_1941-05-26_01-00002.txt mentions these keywords: Bout acceptée, jeunesse flamande, Secours d’Hiver, Joris Van, TIMBRES NOIRS, SOIR AFFAIRES, AFFAIRES INTÉRIEURES, Juin prochain, nouvelle série, Van Severen...\n",
      "KB_JB838_1941-05-28_01-00007.txt mentions these keywords: Faire offre, bon état, Agence Rossel, haut prix, BRUXELLES Téléphone, l'Agence Rossel...\n",
      "KB_JB838_1941-06-04_01-00008.txt mentions these keywords: SOIR MERCRÊÔI, habitant rue, Saute Ruisseau, habitant avenue, Tournoi Populaire, Mme Van...\n",
      "KB_JB838_1941-06-14_01-00010.txt mentions these keywords: Agence Rossel, Ecrire Agence, Faire offre, MEME IOUR, bon état, SOMMES ACHETEURS, l’Agence Rossel, BRETONS DIVANS-LITS, VOITURES D'ENTANTS, D'ENTANTS Battage, DEStNTECTION PUISE, rue Van...\n",
      "KB_JB838_1941-06-23_01-00004.txt mentions these keywords: LOTS Cotation, Bon Temps, El.Pays Liège, titre Intérêts, Dettes Direct, Van Craen, van ACKER, DETTES INDIRECT...\n",
      "KB_JB838_1941-06-26_01-00008.txt mentions these keywords: Van Leuven, Schaerbeek Jeune, Van Brabant, Jeune Paume, van den, lutte fut, Franc Tireur...\n",
      "KB_JB838_1941-07-09_01-00001.txt mentions these keywords: RUE ROYALE, Sainte Amelberge, politique intérieure, politique extérieure, français HEDACTION, maréchal Pétain, commissaires politiques...\n",
      "KB_JB838_1941-07-16_01-00006.txt mentions these keywords: AGENCE ROSSEL, ROSSEL Bruxelles, l’AGENCE ROSSEL, Belle maison, Faire offre, Bonne maison, bain Inst., BALASSE MAGAZINE, Xtovtie phllutdllquo, phllutdllquo Illustrée, Illustrée bilingue, Ecrire Agence...\n",
      "KB_JB838_1941-07-17_01-00004.txt mentions these keywords: Ville Anvers, Société Générale, Banque Anvers, Siège social, l'Assemblée Générale, VILLE Ville...\n",
      "KB_JB838_1941-07-17_01-00008.txt mentions these keywords: nage libre, van den, Jeune Paume, Pelote Van, rue Van, Van Vllerberghe, dimanche prochain, Septet Van, Ruban brun...\n",
      "KB_JB838_1941-07-18_01-00004.txt mentions these keywords: Groupement professionnel, Groupement principal, JUILLET BULLETIN, lieu dans, bons d’achat, ili carae, viande pulvérisée, générale extraordinaire...\n",
      "KB_JB838_1941-07-18_01-00006.txt mentions these keywords: Rnclngmnn BRANCART, habitant avenue, van den, Photo Lesage., Qulck Guy...\n",
      "KB_JB838_1941-07-19_01-00002.txt mentions these keywords: partie libre, d’une facture, délivrance d’une, facture n’est, SOIR SAM, marché libre...\n",
      "KB_JB838_1941-07-26_01-00004.txt mentions these keywords: VOL D’OISEAU, Jours francs, Société Générale, Foire d’automne, siège social, Air connu, générale extraordinaire...\n",
      "KB_JB838_1941-07-31_01-00002.txt mentions these keywords: crédit spécial, Intérêts dus, services chargés, Intérêts pourront...\n",
      "KB_JB838_1941-08-06_01-00001.txt mentions these keywords: produits féconds, RUE ROYALE, Mme Fellow, mais c’est, règne animal, GRAND PRIX, Mais Linné...\n",
      "KB_JB838_1941-08-09_01-00005.txt mentions these keywords: voua avez, voua devez, avez droit, conserver dans, voua adresser, Jour plus, devez voua, traité dans, comprise dans...\n",
      "KB_JB838_1941-08-12_01-00007.txt mentions these keywords: bon état, TOUS TRANSPORTS, RUE ULENS, AGENCE ROSSEL, Camion Chevrolet, Rossel sous, TRANSPORTS CAMIONS, état général...\n",
      "KB_JB838_1941-08-12_01-00008.txt mentions these keywords: bat Mlle, Van den, Mlle Van, battent Mlles, bat Van, Mlle Hoyaux, Van Hal...\n",
      "KB_JB838_1941-08-16_01-00008.txt mentions these keywords: Agence Rossel, Bonne maison, permis vis, siège social, VENDUE meaur, Faire offre, grand Jardin, Maison rapport...\n",
      "KB_JB838_1941-08-22_01-00007.txt mentions these keywords: Agence Rossel, Ecrire AGENCE, bon état, haut prix, BON PRIX, Faire offre, SOMMES ACHETEURS, BUIS ACHETEUR, Rue Jolly, rue Brognlez, ACHETE CAMION, prix Agence, CHARBON OUAB...\n",
      "KB_JB838_1941-08-28_01-00008.txt mentions these keywords: Van den, Fresh Air, mètres haies, mètres relais, meilleurs champions, Secours d’Hiver, Van Hoof, dre Jeunes, Jeune Paume...\n",
      "KB_JB838_1941-08-30_01-00002.txt mentions these keywords: transmission ordinaire, taxe forfaitaire, dernière taxe, taxes assimilées, taxe qu'il, taxe n’est...\n",
      "KB_JB838_1941-09-01_01-00001.txt mentions these keywords: anciens combattants, maréchal Pétain, RUE ROYALE, peintres flamands, artistique flamand, l’organisation Todt, d’une culture...\n",
      "KB_JB838_1941-09-01_01-00002.txt mentions these keywords: SOIR LUNDI, CHRONKNJF PHILATELIQUE, Noua n’svons, Maison communale, timbres TIMBRES, belges Noua, Santé publique, timbres divisionnaires, Tort Joliés-et, série Orval, Affaires économiques, timbre belge...\n",
      "KB_JB838_1941-09-06_01-00001.txt mentions these keywords: BUE ROYALE, LOUVAIN ANNONCEE, maréchal Vorochilov...\n",
      "KB_JB838_1941-09-15_01-00007.txt mentions these keywords: haut prix, AGENCE ROSSEL, Ecrire AGENCE, Ecrire prix, bon état, ROSSEL sous, PRIX Tél, Ecrire Agen, rue Royale, l’Agence Rossel, parfait état, rue Van, désire épous, état Ecrire, vend Prix...\n",
      "KB_JB838_1941-09-19_01-00002.txt mentions these keywords: sociétés Infiniment, capital social, François Janssens, capital revalorisé, taxe mobilière, Bourse Bruxelles, Impôts directs, réellement libéré, viennent d’augmenter...\n",
      "KB_JB838_1941-09-19_01-00003.txt mentions these keywords: troupes allemandes, combats aériens, combat allemands, von Thermann, avions soviétiques, troupes anglaises, nouveau Shah, cours d’un...\n",
      "KB_JB838_1941-09-19_01-00004.txt mentions these keywords: Rossel sous, Agence Rossel, lieu dans, Société Générale, siège social, THÉÂTRES Spectacles, rue DEM...\n",
      "KB_JB838_1941-09-22_01-00006.txt mentions these keywords: Van den, Prix Van, Van Brée, Challenge Van, Van Coppenole, First Lord, Van Dyck, Van Craen, Van Cauter, Beerschot fut, Van Eenaeme...\n",
      "KB_JB838_1941-09-28_01-00005.txt mentions these keywords: Agence Rossel, Faire offre, bon état, bon prix, rue Van, JNE fille, Ecrire Agence, BON PIANO...\n",
      "KB_JB838_1941-09-30_01-00001.txt mentions these keywords: tissus cancéreux, Cancers professionnels, los places, dos prix, Los peintres, BRUXELLES TELEPHONES, EDITIONS BRUXELLES, cancer atteint, Louis Verniers, RUE ROYALE, dos rues, place Royale...\n",
      "KB_JB838_1941-10-02_01-00001.txt mentions these keywords: sport belge, l’éducation physique, comité olympique, Olympique Belge, physique populaire, RUE ROYALE, fédérations belges, PRIX NOBEL...\n",
      "KB_JB838_1941-10-11_01-00002.txt mentions these keywords: sociétés coopératives, nouveau régime, Toison d'Or, Avenue Louise, valeurs coloniales, rue Royale, bénéfices distribués, SOIR SAM, centimes additionnels, taxe professionnelle, sociétés anonymes, valeurs métallurgiques, rue Léopold...\n",
      "KB_JB838_1941-10-14_01-00002.txt mentions these keywords: Daniel Halévy, Acheteur réduit, Galerie d’Art, SOIR MARDI, rue Royale, d'économistes français, amplement épilogue, Délégué Général, avenue Louise, Achille Van...\n",
      "KB_JB838_1941-10-17_01-00001.txt mentions these keywords: général Tojo, RUE ROYALE, quartier général, Galerie d'Art, général To.io, général roumain, petites annonces, attaqué Odessa, OCTOBRE INI, d'une guerre...\n",
      "KB_JB838_1941-10-20_01-00002.txt mentions these keywords: Bruxelles Bruxelles, communauté d’entreprise, Galerie d’Art, politique sociale, Galerie Pierre, s’agit d'un, chef d’entreprise...\n",
      "KB_JB838_1941-10-27_01-00003.txt mentions these keywords: Quartier général, Indes Néerlandaises, Fud Candrix, Revenus bruts, complémentaire personnel...\n",
      "KB_JB838_1941-11-05_01-00001.txt mentions these keywords: Mgr Heylen, RUE ROYALE, Namur fut, camarade Sorée, troupes italiennes...\n",
      "KB_JB838_1941-11-08_01-00002.txt mentions these keywords: Acheteur réduit, part fond., parts bénéficiaires, bénéfices sociaux, Impôts payés, impôts afférents, part soc, Albert Pignalet, Dividendes parts, part soc., fonds d’Etat...\n",
      "KB_JB838_1941-11-22_01-00001.txt mentions these keywords: gjiM ANNEE, MARCHÉ NOIR, Galerie Pierre, général Weygand, RUE ROYALE, général Wavell, troupes allemandes, maréchal Pétain, commandement anglais, Pierre Breughel, Galerie d'Art, Galerie Minerve...\n",
      "KB_JB838_1941-11-26_01-00004.txt mentions these keywords: Agence Rossel, l’Emile Vcrhac, THEATRES MONNAIE, rue Neuve, petite maison...\n",
      "KB_JB838_1941-11-26_01-00005.txt mentions these keywords: Agence Rossel, TONIQUE SCOTT, Ecrire Rossel, l’Agence Rossel, Ecrire Agence...\n",
      "KB_JB838_1941-12-01_01-00002.txt mentions these keywords: Acheteur réduit, Jules Schwartz, Code Civil, terres livrées, El.du Littoral...\n",
      "KB_JB838_1941-12-16_01-00002.txt mentions these keywords: OUS aurons, Marcel Lobet, Mme Dupont, SOIR MARDI, partie civile, Jeudi dernier...\n",
      "KB_JB838_1941-12-16_01-00005.txt mentions these keywords: Agence Rossel, Ecrire Agence, RUE VAN, haut prix, état Tél, BONS PRIX, Bon piano, bons pneus, bon état...\n",
      "KB_JB838_1941-12-20_01-00004.txt mentions these keywords: BELLE MAISON, Adjudication définitive, rue Théodore, Mme Vve, stricte intimité, BONNE MAISON, Petite maison...\n",
      "KB_JB838_1941-12-30_01-00006.txt mentions these keywords: van den, bat Mlle, Van Blerbeek, Michel Van, mètres BRASSE, Urva Guy, Qulck Guy, Olympic Charleroi...\n"
     ]
    }
   ],
   "source": [
    "for f in sorted(files)[4936:5036]:\n",
    "    text = open(os.path.join(data_path, f), 'r',encoding=\"utf-8\").read()\n",
    "    keywords = kw_extractor.extract_keywords(text)\n",
    "    kept = []\n",
    "    for kw, score in keywords:\n",
    "        words = kw.split()\n",
    "        if len(words) == 2:\n",
    "            kept.append(kw)\n",
    "    print(f\"{f} mentions these keywords: {', '.join(kept)}...\")"
   ]
  }
 ],
 "metadata": {
  "kernelspec": {
   "display_name": "Python 3.10.7 ('tac_venv': venv)",
   "language": "python",
   "name": "python3"
  },
  "language_info": {
   "codemirror_mode": {
    "name": "ipython",
    "version": 3
   },
   "file_extension": ".py",
   "mimetype": "text/x-python",
   "name": "python",
   "nbconvert_exporter": "python",
   "pygments_lexer": "ipython3",
   "version": "3.10.7"
  },
  "vscode": {
   "interpreter": {
    "hash": "a8d41ae7ddd47c1c5bcdf4d93273f711679029825c9920781e78233ab4778cb8"
   }
  }
 },
 "nbformat": 4,
 "nbformat_minor": 4
}
