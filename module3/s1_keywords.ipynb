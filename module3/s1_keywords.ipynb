{
 "cells": [
  {
   "cell_type": "markdown",
   "metadata": {},
   "source": [
    "# Extraction de Keywords"
   ]
  },
  {
   "cell_type": "markdown",
   "metadata": {},
   "source": [
    "## Imports"
   ]
  },
  {
   "cell_type": "code",
   "execution_count": 8,
   "metadata": {},
   "outputs": [],
   "source": [
    "import os\n",
    "import yake"
   ]
  },
  {
   "cell_type": "markdown",
   "metadata": {},
   "source": [
    "## Extraire les mots clés d'un document avec Yake"
   ]
  },
  {
   "cell_type": "markdown",
   "metadata": {},
   "source": [
    "https://github.com/LIAAD/yake"
   ]
  },
  {
   "cell_type": "code",
   "execution_count": 9,
   "metadata": {},
   "outputs": [
    {
     "data": {
      "text/plain": [
       "<yake.yake.KeywordExtractor at 0x2104ee36560>"
      ]
     },
     "execution_count": 9,
     "metadata": {},
     "output_type": "execute_result"
    }
   ],
   "source": [
    "# Instantier l'extracteur de mots clés\n",
    "kw_extractor = yake.KeywordExtractor(lan=\"fr\", top=50)\n",
    "kw_extractor"
   ]
  },
  {
   "cell_type": "code",
   "execution_count": 38,
   "metadata": {},
   "outputs": [],
   "source": [
    "# Lister les Fichiers\n",
    "data_path = \"../data/camille_vaccination/\"\n",
    "files ='KB_JB685_1894-05-25_01-0002.txt','KB_JB685_1894-11-09_01-0002.txt','KB_JB685_1894-11-17_01-0002.txt','KB_JB685_1895-03-28_01-0002.txt','KB_JB685_1895-04-14_01-0001.txt','KB_JB685_1895-04-21_01-0002.txt','KB_JB685_1895-08-27_01-0003.txt','KB_JB685_1895-08-31_01-0002.txt','KB_JB685_1896-02-02_01-0001.txt','KB_JB685_1896-04-02_01-0001.txt','KB_JB685_1896-05-13_01-0001.txt','KB_JB685_1896-05-14_01-0001.txt','KB_JB685_1896-08-05_01-0002.txt','KB_JB685_1896-12-15_01-0001.txt','KB_JB685_1897-09-18_01-0001.txt','KB_JB685_1898-07-09_01-0001.txt','KB_JB685_1898-08-06_01-0002.txt','KB_JB685_1898-09-02_01-0001.txt','KB_JB685_1898-09-20_01-0003.txt','KB_JB685_1899-01-04_01-0003.txt','KB_JB685_1899-03-19_01-0005.txt','KB_JB685_1899-09-09_01-0001.txt','KB_JB685_1899-10-10_01-0002.txt','KB_JB685_1899-12-06_01-0001.txt','KB_JB685_1899-12-11_01-0001.txt','KB_JB838_1890-06-16_01-00003.txt','KB_JB838_1890-10-31_01-00001.txt','KB_JB838_1890-11-21_01-00001.txt','KB_JB838_1890-11-24_01-00002.txt','KB_JB838_1891-02-24_01-00002.txt','KB_JB838_1891-07-18_01-00001.txt','KB_JB838_1892-02-24_01-00002.txt','KB_JB838_1892-02-25_01-00003.txt','KB_JB838_1892-10-01_01-00002.txt','KB_JB838_1892-12-08_01-00006.txt','KB_JB838_1893-05-18_01-00005.txt','KB_JB838_1893-10-30_01-00001.txt','KB_JB838_1894-02-14_01-00005.txt','KB_JB838_1894-09-13_01-00005.txt','KB_JB838_1894-10-25_01-00005.txt','KB_JB838_1895-02-16_01-00002.txt','KB_JB838_1895-03-25_01-00001.txt','KB_JB838_1895-08-15_01-00001.txt','KB_JB838_1895-10-29_01-00002.txt','KB_JB838_1896-02-10_01-00003.txt','KB_JB838_1896-05-27_01-00006.txt','KB_JB838_1896-07-23_01-00006.txt','KB_JB838_1896-07-29_01-00006.txt','KB_JB838_1896-12-13_01-00001.txt','KB_JB838_1897-02-11_01-00007.txt','KB_JB838_1897-04-12_01-00003.txt','KB_JB838_1897-09-15_01-00005.txt','KB_JB838_1897-09-15_01-00006.txt','KB_JB838_1897-10-01_01-00006.txt','KB_JB838_1898-02-26_01-00002.txt','KB_JB838_1898-03-10_01-00001.txt','KB_JB838_1898-08-07_01-00001.txt','KB_JB838_1898-08-24_01-00002.txt','KB_JB838_1898-09-02_01-00001.txt'"
   ]
  },
  {
   "cell_type": "code",
   "execution_count": 36,
   "metadata": {},
   "outputs": [
    {
     "data": {
      "text/plain": [
       "108"
      ]
     },
     "execution_count": 36,
     "metadata": {},
     "output_type": "execute_result"
    }
   ],
   "source": [
    "# Imprimer le nombre de fichiers identifiés\n",
    "len(files)"
   ]
  },
  {
   "cell_type": "code",
   "execution_count": 25,
   "metadata": {},
   "outputs": [
    {
     "data": {
      "text/plain": [
       "()"
      ]
     },
     "execution_count": 25,
     "metadata": {},
     "output_type": "execute_result"
    }
   ],
   "source": [
    "# Les dix premiers fichiers\n",
    "files[4836:5836]"
   ]
  },
  {
   "cell_type": "code",
   "execution_count": 27,
   "metadata": {},
   "outputs": [
    {
     "data": {
      "text/plain": [
       "'KB_JB638_1899-11-25_01-00009.txt'"
      ]
     },
     "execution_count": 27,
     "metadata": {},
     "output_type": "execute_result"
    }
   ],
   "source": [
    "# Choisir un fichier\n",
    "this_file = files[250]\n",
    "this_file"
   ]
  },
  {
   "cell_type": "code",
   "execution_count": 28,
   "metadata": {},
   "outputs": [
    {
     "data": {
      "text/plain": [
       "', É gXlgMg _________% LA MEUSE. SAMEDI 25 & DIMANCHE 26 NOVEMBRE 1899. 9 Courrier d\\'Angleterre .\\'-,,\\' u ltre particulière de LA MEUSE) Londres, 23 novembre. Èjcgs RICHESSES DE WINDSOR. *_*nx a 1° P lus impressionné les rares pri- jLœ admis à assister — à une distance tplus respectueuses — au banquet offert J_i soir par la reine Victoria à son petit- fl\\'Eaipereur allemand, ce n\\'est pas l\\'il- 1,$ assemblée de cent-cinquante princes, Cesses , ministres , ambassadeurs , pré- maréchaux, amiraux; ce n\\'est ni la- fjjijse souveraine ni l\\'auguste Guillaume rjj.jjiême : c\\'est l\\'éblouissant spectacle de Lieoditle vaisselle en. or de Sa Majesté, %& ea une longue- ligne au centre de la \\\\L* table, massée sur des étagères aux U bouts do la table, exposée sur d\\'im- ^jtjs buffets aux deux extrémités de la jÛ On avait mis à contribution le service ..mol. que d\\'habile: orfèvres du temps ont fabriqué avec les trésors d\\\\i Pé- ÎC de J^-s ont eu leur utilité... .pour les autres. E ^porter du \"Times\\'\\' écrit : •la longue table, avec sa nappe de damas y, «\\'étendait comme un blanc canal d\\'un L à l\\'autre de la. gi*ande salle. Sur cette j. et aux extrémités de la salle, la. vais- E royale offrait un spectacle d\\'une extra- jjjaire richesse. Les candélabres, les va- » toutes les autres pièces de cette vais- t se répandaient- comme un fleuve d\\'or __i l\\'effet était rehaussé par les înnombra- h lumières qui s\\'y miraient et par la cir- «ilance que les grandes pièces du milieu ht placées sur des miroirs. A chaque E de la table, deux étagères resplendi.s- fçjtes sous les hanaps, les coupes, etc., en iiten ivoire\\'. A d\\'extrémité Est, un objet ,tre tous fascinait la vue : ie magnifique mlée, la tête de tigre, toute en or, cap- Egi) y a cent ans par Lord Morning ton iJaiiigapatam, dans l\\'Inde. Juaais on n\\'a vu un déploiement aussi juj de vaisselle en or et on assure que la jus en atteint 50 millions de francs. Ajoutez à oela les diamants des princesses Ides grandes dames, les uniformes resplen- gants des '"
      ]
     },
     "execution_count": 28,
     "metadata": {},
     "output_type": "execute_result"
    }
   ],
   "source": [
    "# Récupérer le texte du fichier\n",
    "text = open(os.path.join(data_path, this_file), 'r',encoding=\"utf-8\").read()\n",
    "text[:2000]"
   ]
  },
  {
   "cell_type": "code",
   "execution_count": 29,
   "metadata": {},
   "outputs": [
    {
     "data": {
      "text/plain": [
       "[('Mme Punais', 0.00047396473136568725),\n",
       " ('Punais', 0.0017924859383101057),\n",
       " (\"Mme Punais d'un\", 0.004447313292921917),\n",
       " ('mme', 0.0045274453626846685),\n",
       " ('dit Mme Punais', 0.005819897178428791),\n",
       " (\"c'est\", 0.012482426734620354),\n",
       " ('bonne', 0.015525777381724653),\n",
       " (\"qu'il\", 0.01945199671558487),\n",
       " ('Lisant', 0.022081082459256593),\n",
       " ('temps', 0.022182907848449736),\n",
       " ('HAVANE', 0.022555777224474338),\n",
       " ('Cuba', 0.02461270967979302),\n",
       " (\"d'un\", 0.028016056331436792),\n",
       " (\"c'est qu'ils\", 0.03011987443718015),\n",
       " (\"Punais d'un\", 0.03106711650063589),\n",
       " ('tabac', 0.03309475319919141),\n",
       " ('Herminie', 0.03480778593397125),\n",
       " (\"qu'ils\", 0.036125136757514754),\n",
       " ('Conseil', 0.038142042221105496),\n",
       " (\"n'est\", 0.04074901203680618),\n",
       " ('Paris', 0.0409336033761621),\n",
       " ('Porte', 0.04320642395210445),\n",
       " ('millions', 0.045580881670975903),\n",
       " (\"d'une\", 0.04586719821692504),\n",
       " ('Punais vient', 0.046897708431238),\n",
       " ('jour', 0.050442927438814615),\n",
       " ('francs', 0.052961753803697824),\n",
       " ('Mme Alboni', 0.05430884195115625),\n",
       " ('MAROC', 0.05578335827331353),\n",
       " ('MEUSE', 0.05625343001745888),\n",
       " ('dit', 0.06155021372668991),\n",
       " ('dit Mme', 0.06215711378077535),\n",
       " (\"c'est qu'ils aient\", 0.06326321042657246),\n",
       " ('bon', 0.06486519400368802),\n",
       " ('grand', 0.06743328664416819),\n",
       " ('TUNNEL', 0.07191190575404349),\n",
       " ('Américain', 0.07302668302738442),\n",
       " ('CIGARES', 0.07492933970034812),\n",
       " (\"c'est qu'ils n'ont\", 0.07620188825299716),\n",
       " ('province', 0.07669321746822308),\n",
       " ('Enfin', 0.07786200970329649),\n",
       " ('tercios', 0.07915305950871221),\n",
       " (\"qu'une\", 0.08185419817231425),\n",
       " ('fois', 0.0826096318671344),\n",
       " ('Santiago de Cuba', 0.08324596956701007),\n",
       " ('vient', 0.08330486423843941),\n",
       " ('Porto-Rico', 0.08353838333590513),\n",
       " (\"s'est\", 0.08430542048595832),\n",
       " ('NOVEMBRE', 0.08447394041380532),\n",
       " ('Mademoiselle', 0.09119267733357078)]"
      ]
     },
     "execution_count": 29,
     "metadata": {},
     "output_type": "execute_result"
    }
   ],
   "source": [
    "# Extraire les mots clés de ce texte\n",
    "keywords = kw_extractor.extract_keywords(text)\n",
    "keywords"
   ]
  },
  {
   "cell_type": "code",
   "execution_count": 30,
   "metadata": {},
   "outputs": [
    {
     "data": {
      "text/plain": [
       "['Mme Punais',\n",
       " \"c'est qu'ils\",\n",
       " \"Punais d'un\",\n",
       " 'Punais vient',\n",
       " 'Mme Alboni',\n",
       " 'dit Mme']"
      ]
     },
     "execution_count": 30,
     "metadata": {},
     "output_type": "execute_result"
    }
   ],
   "source": [
    "# Ne garder que les bigrammes\n",
    "kept = []\n",
    "for kw, score in keywords:\n",
    "    words = kw.split()\n",
    "    if len(words) == 2:\n",
    "        kept.append(kw)\n",
    "kept"
   ]
  },
  {
   "cell_type": "markdown",
   "metadata": {},
   "source": [
    "## Faire la même opération sur tous les documents"
   ]
  },
  {
   "cell_type": "code",
   "execution_count": 40,
   "metadata": {},
   "outputs": [
    {
     "name": "stdout",
     "output_type": "stream",
     "text": [
      "KB_JB685_1894-05-25_01-0002.txt mentions these keywords: Cour, lee, fut, Stappers, amazones, nombre, grand, journaux, LIÈGE, roi, Dût, jour, Gladstone, voir, Paris, Jeannette, petit, nouveau, ans, père, Ion, lut, russe, lettre, aurait, n’a, qu’il, cocher, corps, d'une, général, venait...\n",
      "KB_JB685_1894-11-09_01-0002.txt mentions these keywords: plus, ans, Mais, mort, francs, lee, jeune, nouvelle, lea, Compagnie, C’est, plu, Belgique, dee, peintre, chemin, mai, travaux, homme, ingénieur, d’un, ment, noue, provincial, grand, l’on, faire, met, Bleu, enterrement, Yvette, gouvernement, scs, jours, petit, théâtre, général...\n",
      "KB_JB685_1894-11-17_01-0002.txt mentions these keywords: Congo, MARSY, petit, dit, chose, Chambre, dee, Bleu, major, n’a, LOUISE, voix, Bitrua, l’on, C’est, vient, propos, discussion, Puis, Lee, temps, francs, voir, qu'il, idées, maison, température, proposition, HALF, d’un, porte, kilo, droite, tour, droit, vau, eet, ensuite, général...\n",
      "KB_JB685_1895-03-28_01-0002.txt mentions these keywords: plus, projet, ouvriers, qu’il, gouvernement, Commune, Orsoni, trooz, dit, n’a, Chambre, Carbuccia, loi, suffrage, ans, socialistes, Péladan, fois, d’un, jour, universel, gauche, ministre, veut, communale, ouvrier, déjà, C’est, mort, Léopold, Congo...\n",
      "KB_JB685_1895-04-14_01-0001.txt mentions these keywords: Pâques, dee, Lune, avril, jour, pleine, mètres, puits, oes, fut, Bruxelles, qu’il, nombre, Paris, exploitations, travaux, Hôtel, sérum, fête, jours, seulement, samedi, serait, général, ventilation, appareils, ment, d’une, monde, Echange, Libre...\n",
      "KB_JB685_1895-04-21_01-0002.txt mentions these keywords: qu’il, Joniaux, Lafontaine, Faure, c’est, d’une, fille, Bruges, président, voix, temps, suite, mort, d’un, médecin, Bruxelles, vendredi, s’est, Giroul, samedi, lieu, jour, peine, docteur, Société, oui, Havre, grand, République, d'un, alors, faire, train, Collin, eet, ostende, rue, qu’elle, Félix, reine, gourmet, ouvriers, VICTOR, commune, Estelle...\n",
      "KB_JB685_1895-08-27_01-0003.txt mentions these keywords: Shine, heures, L’agent, Mrs, fut, d’une, rue, d’un, qu’il, Vandevelde, police, Ganneron, individus, ans, c’est, soir, déjà, Houwaert, Berckmans, Samedi, qu’on, dimanche, femme, SÉROTHÉRAPIE, heure, dernier, Hordies, Van, Bruyn, recherches, courant...\n",
      "KB_JB685_1895-08-31_01-0002.txt mentions these keywords: Valentin, qu’il, c’est, jour, Jourdan, dit, Picard, d’une, mer, peuple, Bara, jours, écoles, homme, loi, Cadour, monsieur, France, juge, père, Toter, Oui, Schollaert, Congo, Vilvaudran, seulement, mort, Chambre, gouverneur, avez, grande, liberté, Van, Sénat, petit, religion, nouvelle, hommes, preuve, nature...\n",
      "KB_JB685_1896-02-02_01-0001.txt mentions these keywords: C’est, ministre, princesse, Belgique, Woeste, prince, bal, d’une, Henriette, qu’il, projet, samedi, Bruxelles, PRIX, temps, commission, gouvernement, CENTIMES, DIMANCHE, police, Van, l’on, heures, Emmanuel, Flandre, moment, d’un, grève, famille, roi, grand, matin, comte, mariage, dit, Brice, Chambre, belges, belge...\n",
      "KB_JB685_1896-04-02_01-0001.txt mentions these keywords: secret, médecin, mercredi, médecins, rue, cas, Kitson, Rte, général, lieu, d’un, BRUXELLES, paix, d’une, dee, loi, serait, Mrs, Playfair, Brouardel, question, ville, professionnel, silence, qu’il, tribunal, hier, fut, Flandre, Sénat, John, homme, petite, Petit, sans, camp...\n",
      "KB_JB685_1896-05-13_01-0001.txt mentions these keywords: MAI, variole, Bruxelles, Trois, Jenner, RUE, Lucas, mais, Père, SAINT, rayons, Mardi, d’une, d’un, VILLE, quartier, grève, BELGIQUE, fut, projet, LONDRES, mort, RCOACTIM, Roi, Hankar, vient, prince, SAINTS, Van, chantiers, Chambre, siècle, Albert, comité, nom, ouvriers, Jones, parti, communale, appliqué...\n",
      "KB_JB685_1896-05-14_01-0001.txt mentions these keywords: Bruxelles, Miot, Van, mort, prix, MAI, Mais, CONGO, JWTTDI, d’une, capitaine, général, bargoensch, mercredi, Janssens, C’est, ici, hier, ans, faire, Paul, RUE, réponses, Classe, mot, Peuple, parti, Court, lettres, progressiste, arrêté, avons, projet, nombre, Dustin...\n",
      "KB_JB685_1896-08-05_01-0002.txt mentions these keywords: qu’il, Stokes, lee, Frédéric, ville, dee, Rodolphe, Lothaire, Adrienne, dit, Saxe, section, belges, C’est, Belgique, d’un, Pembe, division, Stokea, Daubrin, Dryade, armes, membres, heures, Congrès, Times, Bwana, Max, rapporteur, L’hôtel, question, docteur, munitions, faire, lettre...\n",
      "KB_JB685_1896-12-15_01-0001.txt mentions these keywords: Vaccin, John, écoles, Abaiirnwnt, Ttoÿk'moi, Jfr, épidémies, PARIS, médecins, vacciné, enfants, variole, déjà, prises, prise, Roi, LONDRES, TEMPS, vaccination, Jones, procédé, grande, SABfcpS, PfeS, nombre, février, service, moment, animal, furent, atteintes, travaux, l'on, s’est, rent, génisse...\n",
      "KB_JB685_1897-09-18_01-0001.txt mentions these keywords: BERNADOTTE, PARIS, Napoléon, faire, QU’IL, Bonaparte, Liégeois, Suède, RUE, BRUXELLES, dit, roi, chef, maréchal, homme, ANNÉE, général, point, Désirée, pardonne, ans, alors, C’est, l’on, Van, grand, femme, lettres, panier, vendredi, suggestion, cause, l’armée, prince, Norvège, fut, d’un...\n",
      "KB_JB685_1898-07-09_01-0001.txt mentions these keywords: moin, Santiago, tétanos, toxine, Petit, espagnols, moins, matelots, Bleu, Sampson, Train, troupes, l’escadre, Américains, général, Nicolaier, Hobson, Philippines, culture, jours, Bourgogne, mort, enfants, Washington, femmes, nouvelle, substance, suite, sang, bacille, Beervœts, fabrique...\n",
      "KB_JB685_1898-08-06_01-0002.txt mentions these keywords: Esterhazy, général, CHRISTIAN, commandant, qu’il, colonel, nommé, Paty, paix, Conseil, COMTE, Clam, lignes, vendredi, justice, canton, Cour, c’est, DREYFUS, ministre, guerre, août...\n",
      "KB_JB685_1898-09-02_01-0001.txt mentions these keywords: Petit, Bleu, Dreyfus, guerre, Service, Henry, qu’il, point, général, colonel, nouveau, dit, Forbes, soir, PARIS, BRUXELLES, spécial, jeudi, président, l’esprit, Légia, Cavaignac, ABIIRISTRATIM, Abonnement, conseil, moment, n’est, journal, faire, d’un, C’est, temps, Etats-Unis, aujourd’hui, Trou, procès...\n",
      "KB_JB685_1898-09-20_01-0003.txt mentions these keywords: prix, baron, série, qu’il, grand, courses, C’est, dit, Goliath, monsieur, femme, Hier, Pari, nom, placés, septembre, handicap, s’est, rue, d’une, Réunion, mis, Prussien, d’un, capitaine, faire, D’Artagnan, placé, terrible, nuit, Leader, heures, mutuel, papier, petit, long, résultats, vélodrome, Paris, lieu, garçon...\n",
      "KB_JB685_1899-01-04_01-0003.txt mentions these keywords: RUE, Société, petit, suite, heures, mais, Mme, bleu, d’une, c’est, jour, nouvelle, cours, Paris, CYCLISMK, Coupy, situation, vient, d’un, bonne, service, dernier, francs, l’eau, nne, déjà, dit, fort, mètres, qne, poor, abonnés...\n",
      "KB_JB685_1899-03-19_01-0005.txt mentions these keywords: plus, POSTE, lettres, lettre, postes, C’est, qu’il, facteurs, bureaux, Bruxelles, bureau, qu’ils, TRI, facteur, service, faut, trieurs, plu, trieur, journaux, PAGE, DIMANCHE, SUPPLÉMENT, employés, ici, Gand, Fiévé, d’une, chef, Java, soient, salle, correspondances...\n",
      "KB_JB685_1899-09-09_01-0001.txt mentions these keywords: Dreyfus, PARIS, dra, maître, Rennes, Démangé, serait, Petit, Labori, D’UN, président, BRUXELLES, guerre, spécial, c’est, juges, doute, qu’il, conseil, RAYONS, question, l’arrêt, rat, gouvernement, SEPTEMBRE, Deroulède, FRANCE, général, vendredi, ministre, allemand, plaidoirie, Transvaal...\n",
      "KB_JB685_1899-10-10_01-0002.txt mentions these keywords: Ira, qu’il, Parti, socialiste, conseiller, président, Dreyfus, Congrès, faire, Bruxelles, heures, soir, qu’ils, heure, Séverine, Prix, ancien, Brug, Bone, JUMW, jour, qai, lundi, dit, rue, presse, sujet, Mme, C’est, sortant, rapport, délégué...\n",
      "KB_JB685_1899-12-06_01-0001.txt mentions these keywords: Anglais, Mais, guerre, général, Ira, d’une, Congrès, nouvelles, PARIS, d’un, Transvaal, Boers, visite, gouvernement, MERCREDI, DECEMBRE, nouvelle, eette, président, oot, jour, qu’il, Wadaï, puces, River, BRUXELLES, Chambre, LONDRES, aurait, nouveau, ETRANGER, rats...\n",
      "KB_JB685_1899-12-11_01-0001.txt mentions these keywords: Boers, général, Petit, River, LONDRES, c’est, marche, qu’il, BRUXELLES, dépêche, demande, division, Cap, French, Bleu, lumière, LUNDI, DECEMBRE, CENTIMES, nuit, vue, faire, d’une, l’hiver, soir, dos, anglais, Modder, français, Kop, Service, Garou, sud, dimanche, nouveau, vient, moment, résultats, doses...\n",
      "KB_JB838_1890-06-16_01-00003.txt mentions these keywords: maison, rue, Bruxelles, Notaire, ares, maisons, paumer, Portée, Vendue, rentier, are, Louée, contenant, Notaires, chaussée, ans, Van, cent., d’un, cours, francs, heures, arcs, commerce, Saint, Terrain, juin...\n",
      "KB_JB838_1890-10-31_01-00001.txt mentions these keywords: Fous, dit, Jacques, femme, folie, fou, c’est, patronage, qu’il, familial, société, ans, d’un, ANNÉE, Vendredi, Edition, TIRAGE, EXEMPLAIRES, rue, vient, puis, d’une, Octobre, lèvres, aliénés, homme, jeune, jour, dangereux...\n",
      "KB_JB838_1890-11-21_01-00001.txt mentions these keywords: qu’il, Koch, raisons, découverte, cause, d’une, Concerts, tuberculose, temps, d’un, c’est, Ladislas, Héléna, EXEMPL, bacille, ANNEE, Edition, TIRAGE, permis, rue, ligne, comte, jours, science, n’est, d’être, heures, QUOTIDIEN, manière, n’était...\n",
      "KB_JB838_1890-11-24_01-00002.txt mentions these keywords: prince, Nassau, Taciturne, Guillaume, d’Orange, Koch, novembre, fils, Roi, princes, Maison, grand, fut, ans, France, Berlin, Ççn,à, Iten, duc, dernier, Hollande, suite, Pays-Bas...\n",
      "KB_JB838_1891-02-24_01-00002.txt mentions these keywords: directeur, monsieur, qu’il, février, voix, public, c’est, soir, d’un, journal, francs, dos, d’une, province, paiement, part, temps, républicain, Cornélis, Servais, Société, Philanthropie, bout, heures, faire, jeune, socialiste, Elu, Arrondissement, Théâtre, dernier, garanties, Londres, nombre, faut, loi, Haut, salle, donner...\n",
      "KB_JB838_1891-07-18_01-00001.txt mentions these keywords: Robert, Dick, phénomènes, Mme, quo, c’est, rue, cas, commission, sociétés, place, d’un, d’une, esprit, chien, Montbray, question, médecine, spiritisme, Puis, Plébain, dimension, faire, qu’il, Enfin, ligne, petite, choses, spirites, dit, Faculté, s’est, corps, sciences, science, Paris, professeur, Beaunis, l’on...\n",
      "KB_JB838_1892-02-24_01-00002.txt mentions these keywords: rue, c'est, qu’il, Monde, Monsieur, jour, Pape, février, déjà, numéro, Paris, Londres, vient, moment, jours, pays, midi, demande, Bruxelles, drapeaux, Vatican, gouvernement, Chambre, l’autre, tabatière, quo, Woeste, qu’on, tour, tribunal, Alors, ami, soir, naturellement, Mme, artiste, homme, grand, cocher, voiture...\n",
      "KB_JB838_1892-02-25_01-00003.txt mentions these keywords: ANNEAUX, d’un, vient, jeune, C’est, faire, qu’il, sang, Uno, d'une, Gontran, secondes, nuit, Paul, alors, seul, sorte, Clotilde, maintenant, tonnes, kilomètres, d'un, homme, dit, août, Christophe, suffit, système, France, anneau, ligne, mètres, point, fond, femme, journaux...\n",
      "KB_JB838_1892-10-01_01-00002.txt mentions these keywords: septembre, qu’il, d’un, Stanhope, faire, qu’on, Liebknecht, général, Paris, hier, c’est, rôle, Mlle, Berlin, Lejeune, jours, Mllo, s’est, d’une, rue, porte, jour, Londres, France, grand, militaire, dit, lord-maire, heure, soir, mots, idée, note, matin, enfants, père, pris...\n",
      "KB_JB838_1892-12-08_01-00006.txt mentions these keywords: rue, d’un, Odette, piqûres, piqûre, Castors, castor, Bruxelles, d’abeilles, Lucien, mère, Prix, Eau, ans, malade, litres, Monsieur, col, Lapins, nuit, d’une, peau, venin, Monde, Envoi, Liquide, qu’ils, jeune, SCIENCE, gros, Beaver, pièce, Congrès...\n",
      "KB_JB838_1893-05-18_01-00005.txt mentions these keywords: rue, Mais, C’est, CANCER, bateau, Karadeuc, qu’il, Dieu, temps, fois, uno, Veuve, cheveux, curé, épouse, qu’on, d’un, haute, grand, quo, MAI, SUPPLÉMENT, Miétédrologié, GRATUIT, François, période, mal, boulevard, microbe, jour, bon, vent, Jean, Marie, Joseph, Gilbert, Gardain...\n",
      "KB_JB838_1893-10-30_01-00001.txt mentions these keywords: Gaston, l’on, colibri, faire, dos, province, n’est, ANNEE, EISPPÜIRES, TIRAGE, Principaux, faut, Universel, femmes, ligne, suffrage, plante, terre, sommes, droit, projet, rue, question, sol, sociale, collectivisme, d’une, lois, qu’il, Température, lés...\n",
      "KB_JB838_1894-02-14_01-00005.txt mentions these keywords: minutes, NID, SOIR, plantes, d’un, plante, feuilles, faut, faire, James, d’une, belle, Vénus, fleur, SUPPLÉMENT, GRATUIT, matin, qu’il, c’est, février, centimètres, jours, fumée, nids, Soleil, heures, qu’elle, tabac, centimes, Mary, haut, J’ai, professeur, branches, Job, temps, dit, poison, Courcclles, caisse...\n",
      "KB_JB838_1894-09-13_01-00005.txt mentions these keywords: Octave, grand, SOIR, Nelhouët, rue, dés, vapeur, maisons, croup, château, d’une, qu’il, Bruxelles, Monsieur, voit, exemple, etc., n’est, prix, mère, tomber, scories, faire, Roux, d’un, Maladies, forme, TURIN, SEPTEMBRE, fois, docteur, AilèurviiBE, OiO...\n",
      "KB_JB838_1894-10-25_01-00005.txt mentions these keywords: C’est, d’une, Yvonne, Roux, qu’il, fut, Mateba, souvent, GALE, docteur, SUPPLÉMENT, GRATUIT, SÔTR, fille, bêtes, sérum, peau, n’est, d’un, uno, Corentin, conditions, mal, petits, point, Ello, Compagnie, Jenner, lés, qu’on, troupeaux, animaux, bétail, yeux, déjà, sillons, enfants, guérison, croup, diphtérie, sillon, face...\n",
      "KB_JB838_1895-02-16_01-00002.txt mentions these keywords: femmes, Société, femme, hier, c’est, grand, février, soir, hommes, ancien, question, qu’ils, qu’il, gouvernement, d’une, rue, d’un, vient, Chambre, Paris, Bruxelles, faire, police, matin, homme, Charles, heures, grande, Pékin, service, reçu, reste...\n",
      "KB_JB838_1895-03-25_01-00001.txt mentions these keywords: quo, Ravenau, uno, c’est, d’avoir, Bruxelles, province, d’un, EXEMPLAIRES, ANNEE, République, ligne, Martin, collectivisme, comte, banquier, économique, faut, bois, Déjà, printemps, Mars, mot, ans, loi, qu’il, latin, politique, jours, petite, qu’on, ost...\n",
      "KB_JB838_1895-08-15_01-00001.txt mentions these keywords: PETITS, PAUVRES, travail, C’est, temps, n’est, d’un, enfants, qu’on, n’ont, qu’il, monde, province, chasse, EXEMPLAIRES, pièce, JOUR, TUBERCULOSE, n’a, août, mal, ministre, Victor, Hugo, années, faire, j’ai, l’on, déjà, qu’à, Lamartine, mer, lieu...\n",
      "KB_JB838_1895-10-29_01-00002.txt mentions these keywords: étudiants, candidats, d’un, industriel, Bruxelles, avocat, place, président, Van, heures, nouveaux, dit, l’Institut, hier, l’Association, quo, Congo, Angleterre, science, instituts, Mahomet, ministre, puis, petit, gouvernement, qu’il, serpent, point, acclamations, derniers, c’est, jours, Verhaegen, réception, l’Université, Cercle, libérale...\n",
      "KB_JB838_1896-02-10_01-00003.txt mentions these keywords: rue, maison, d’un, C’est, Bruxelles, paris, février, heures, Mlle, France, francs, Dick, jours, d’une, contenant, Terrain, louée, grand, qu’on, bâtir, J’ai, moment, soir, Belgique, temps, Notaire, Notaires, Van, qu’il...\n",
      "KB_JB838_1896-05-27_01-00006.txt mentions these keywords: gravures, volume, RUE, d’une, C’est, soleil, Maison, louer, Savenay, grand, BRUXELLES, briller, mère, MELANGES, Sainte-Luce, chaleur, prix, marquis, dit, Flandre, lettre, temps, volumes, Bonneville, HENRI, Vâtuas, CONSCIENCE, main, francs, monde, comte, cheval, maître, voiture, seulement, Démon, Morrison...\n",
      "KB_JB838_1896-07-23_01-00006.txt mentions these keywords: Yan, choléra, bois, C’est, qu’il, bon, alors, temps, d’une, chevaux, lapins, Justice, Qu’on, toxines, d’un, yeux, jour, n’est, Florence, juge, faut, qu’ils, s’il, lieu, Poutoun, cours, ment, microbe, microbes, monde, vaccin, jamais, moyen, n’y, sac, fois, l’on, nom, faire, dit...\n",
      "KB_JB838_1896-07-29_01-00006.txt mentions these keywords: rue, mal, louer, mer, maison, vendre, dit, d’un, Rossel, Marceline, grand, Robert, C’est, Beaufort, prix, porte, dés, notaire, VENTE, Parlanget, Valognes, temps, noyer, mère, Fabrique, fille, enfant, partie, Daguerre, r.de, Gérard, sens...\n",
      "KB_JB838_1896-12-13_01-00001.txt mentions these keywords: d’un, d’une, travail, Chambre, contrat, Décembre, loi, Conseil, projet, Mlle, faire, qu’il, hier, mort, fut, question, Belgique, Alaceo, C’est, vie, Grand, cadavre, Maceo, femme, conditions, n’est, momie, vient, questions, ministre, jour, roi, père, l’ouvrier...\n",
      "KB_JB838_1897-02-11_01-00007.txt mentions these keywords: rue, Van, d’un, mademoiselle, d’une, veuve, époux, qu’il, monsieur, C’est, Bon, cousin, l’abbé, Mlle, chaussée, épouse, faire, uno, plantes, puis, n’est, quo, point, plante, Penarvan, Renée, ans, tomates, tomate, jour, l’on, côté, reste, raison, petit, bouche...\n",
      "KB_JB838_1897-04-12_01-00003.txt mentions these keywords: rue, MAISON, Bruxelles, Notaire, avril, maisons, Notaires, chambre, cent., ares, heures, Portée, Hier, rues, prix, terrains, vente, Société, contenant, Commerce, jours, jour, francs, are, petite, soir...\n",
      "KB_JB838_1897-09-15_01-00005.txt mentions these keywords: quo, qu’il, c’est, faut, d’un, tournée, anglais, tous, d’une, Jour, bocaux, faire, tournées, fille, ville, SUPPLEMENT, Ior, COMÉDIENS, VOYAGE, Réiano, Sulaae, Uallando, Cîtriers, Fabien, Fugger, soir, fit, n’est, Papa, pièce, Dame, francs, courant...\n",
      "KB_JB838_1897-09-15_01-00006.txt mentions these keywords: l’azote, rue, sol, maison, d’une, récolte, plantes, Monsieur, terre, l’électricité, c’est, grand, l’air, Fugger, plante, végétaux, d’un, microbes, légumineuses, racines, faire, Fabien, nodosités, Bernard, qu’un, question, dos, vendre, jour, l’on, BRUXELLES, Papa, éléments, Chambre, baron, PRIX...\n",
      "KB_JB838_1897-10-01_01-00006.txt mentions these keywords: société, sociétés, NITRAGINE, d’un, associés, C’est, qu’on, commandite, n’est, faire, d’une, grand, Lorlay, légumineuses, l’on, Ville, nom, n’y, actions, droit, simple, culture, sol, vie, actes, commerce, dit, terre, qu’il...\n",
      "KB_JB838_1898-02-26_01-00002.txt mentions these keywords: ZOLA, bas, PROCÈS, qu’il, maison, cour, rue, Mais, mort, Paris, police, SOIR, peuple, paix, DREYFUS, c’est, février, s’est, vient, frais, faire, Conseil, jugement, d’une, d’un, chambre, point, commis, Hier, question, dos, dit, temps, heures, Grand, nouvelle, juge, qu’ils, uno, francs, presse, prisonnier, lit, fut...\n",
      "KB_JB838_1898-03-10_01-00001.txt mentions these keywords: Bruxelles, rue, quartier, Flandre, Brabant, travail, partie, province, loi, Liège, Marché, Soir, Sesti, musée, HOMMES, d’un, habitants, haine, sang, jour, jours, prince, commis, dit, qu’ils, s’est, fin, dos, d’une, faire, Ville, balai, construction, lois, commune, Maximum, pratique, services, l’administration, appareils...\n",
      "KB_JB838_1898-08-07_01-00001.txt mentions these keywords: c’est, lés, tous, Colomb, gouvernement, FAUVES, d’un, Àoôi, EXEMPLAIRES, TIRAGE, août, dit, paix, serait, dos, Qu’il, fie, Hier, jamais, Bruxelles, qu’on, bêtes, Madrid, Galles, d’une, Chambre, faire, lieu, Jour, Sagasta, Los, QUOTIDIEN, ligne...\n",
      "KB_JB838_1898-08-24_01-00002.txt mentions these keywords: heures, d’un, Bruxelles, hier, train, qu’il, août, faire, Etats-Unis, gare, rue, ligne, chaleur, général, soldats, heure, SOIR, ville, officiers, Manille, FER, Nicolas, loi, lieu, commissaires, Schepers, victime, Catherine, jours, l’armée, vient, guerre, temps, jamais, section, voie, pauvre, midi, d’une, matin, fut, police...\n",
      "KB_JB838_1898-09-02_01-00001.txt mentions these keywords: los, quo, dos, qu’il, c’est, Froment, uno, lait, enfant, petit, mère, enfants, Oui, Vendredi, PETITE, mèro, d’un, n’est, Bruxelles, parents, Flandre, faut, qu’ils, l’on, médecin, d’eau, cours, point, arbres, ans, aveo, chose, PETITS...\n"
     ]
    }
   ],
   "source": [
    "for f in sorted(files)[0:1000]:\n",
    "    text = open(os.path.join(data_path, f), 'r',encoding=\"utf-8\").read()\n",
    "    keywords = kw_extractor.extract_keywords(text)\n",
    "    kept = []\n",
    "    for kw, score in keywords:\n",
    "        words = kw.split()\n",
    "        if len(words) == 1:\n",
    "            kept.append(kw)\n",
    "    print(f\"{f} mentions these keywords: {', '.join(kept)}...\")"
   ]
  }
 ],
 "metadata": {
  "kernelspec": {
   "display_name": "Python 3.10.7 ('tac_venv': venv)",
   "language": "python",
   "name": "python3"
  },
  "language_info": {
   "codemirror_mode": {
    "name": "ipython",
    "version": 3
   },
   "file_extension": ".py",
   "mimetype": "text/x-python",
   "name": "python",
   "nbconvert_exporter": "python",
   "pygments_lexer": "ipython3",
   "version": "3.10.7"
  },
  "vscode": {
   "interpreter": {
    "hash": "a8d41ae7ddd47c1c5bcdf4d93273f711679029825c9920781e78233ab4778cb8"
   }
  }
 },
 "nbformat": 4,
 "nbformat_minor": 4
}
