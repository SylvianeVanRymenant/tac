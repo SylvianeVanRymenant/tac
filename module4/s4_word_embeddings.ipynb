{
 "cells": [
  {
   "cell_type": "markdown",
   "metadata": {},
   "source": [
    "# Word Embeddings : le modèle Word2Vec"
   ]
  },
  {
   "cell_type": "markdown",
   "metadata": {},
   "source": [
    "## Imports"
   ]
  },
  {
   "cell_type": "code",
   "execution_count": 1,
   "metadata": {},
   "outputs": [],
   "source": [
    "import sys\n",
    "\n",
    "from gensim.models.phrases import Phrases, Phraser\n",
    "from gensim.models import Word2Vec\n",
    "\n",
    "import nltk\n",
    "from nltk.tokenize import wordpunct_tokenize\n",
    "from unidecode import unidecode"
   ]
  },
  {
   "cell_type": "markdown",
   "metadata": {},
   "source": [
    "## Chargement et traitement des phrases du corpus"
   ]
  },
  {
   "cell_type": "markdown",
   "metadata": {},
   "source": [
    "### Création d'un objet qui *streame* les lignes d'un fichier pour économiser de la RAM"
   ]
  },
  {
   "cell_type": "code",
   "execution_count": 2,
   "metadata": {},
   "outputs": [],
   "source": [
    "class MySentences(object):\n",
    "    \"\"\"Tokenize and Lemmatize sentences\"\"\"\n",
    "    def __init__(self, filename):\n",
    "        self.filename = filename\n",
    "\n",
    "    def __iter__(self):\n",
    "        for line in open(self.filename, encoding='utf-8', errors=\"backslashreplace\"):\n",
    "            yield [unidecode(w.lower()) for w in wordpunct_tokenize(line)]"
   ]
  },
  {
   "cell_type": "code",
   "execution_count": 3,
   "metadata": {},
   "outputs": [],
   "source": [
    "infile = f\"../data/sents.txt\"\n",
    "sentences = MySentences(infile)"
   ]
  },
  {
   "cell_type": "markdown",
   "metadata": {},
   "source": [
    "### Détection des bigrams\n",
    "\n",
    "Article intéressant sur le sujet : https://towardsdatascience.com/word2vec-for-phrases-learning-embeddings-for-more-than-one-word-727b6cf723cf"
   ]
  },
  {
   "cell_type": "code",
   "execution_count": 4,
   "metadata": {},
   "outputs": [],
   "source": [
    "bigram_phrases = Phrases(sentences)"
   ]
  },
  {
   "cell_type": "markdown",
   "metadata": {},
   "source": [
    "L'object `phrases` peut être vu comme un large dictionnaire d'expressions multi-mots associées à un score, le *PMI-like scoring*. Ce dictionnaire est construit par un apprentissage sur base d'exemples.\n",
    "Voir les références ci-dessous :\n",
    "- https://arxiv.org/abs/1310.4546\n",
    "- https://en.wikipedia.org/wiki/Pointwise_mutual_information"
   ]
  },
  {
   "cell_type": "code",
   "execution_count": 5,
   "metadata": {},
   "outputs": [
    {
     "data": {
      "text/plain": [
       "dict"
      ]
     },
     "execution_count": 5,
     "metadata": {},
     "output_type": "execute_result"
    }
   ],
   "source": [
    "type(bigram_phrases.vocab)"
   ]
  },
  {
   "cell_type": "markdown",
   "metadata": {},
   "source": [
    "Il contient de nombreuses clés qui sont autant de termes observés dans le corpus"
   ]
  },
  {
   "cell_type": "code",
   "execution_count": 6,
   "metadata": {},
   "outputs": [
    {
     "data": {
      "text/plain": [
       "706948"
      ]
     },
     "execution_count": 6,
     "metadata": {},
     "output_type": "execute_result"
    }
   ],
   "source": [
    "len(bigram_phrases.vocab.keys())"
   ]
  },
  {
   "cell_type": "markdown",
   "metadata": {},
   "source": [
    "Prenons une clé au hasard :"
   ]
  },
  {
   "cell_type": "code",
   "execution_count": 7,
   "metadata": {},
   "outputs": [
    {
     "name": "stdout",
     "output_type": "stream",
     "text": [
      "-_>>\n"
     ]
    }
   ],
   "source": [
    "key_ = list(bigram_phrases.vocab.keys())[144]\n",
    "print(key_)"
   ]
  },
  {
   "cell_type": "markdown",
   "metadata": {},
   "source": [
    "Le dictionnaire indique le score de cette coocurrence :"
   ]
  },
  {
   "cell_type": "code",
   "execution_count": 8,
   "metadata": {},
   "outputs": [
    {
     "data": {
      "text/plain": [
       "62"
      ]
     },
     "execution_count": 8,
     "metadata": {},
     "output_type": "execute_result"
    }
   ],
   "source": [
    "bigram_phrases.vocab[key_]"
   ]
  },
  {
   "cell_type": "markdown",
   "metadata": {},
   "source": [
    "Lorsque l'instance de `Phrases` a été entraînée, elle peut concaténer les bigrams dans les phrases lorsque c'est pertinent."
   ]
  },
  {
   "cell_type": "markdown",
   "metadata": {},
   "source": [
    "### Conversion des `Phrases` en objet `Phraser`\n",
    "\n",
    "`Phraser` est un alias pour `gensim.models.phrases.FrozenPhrases`, voir ici https://radimrehurek.com/gensim/models/phrases.html.\n",
    "\n",
    "Le `Phraser` est une version *light* du `Phrases`, plus optimale pour transformer les phrases en concaténant les bigrams."
   ]
  },
  {
   "cell_type": "code",
   "execution_count": 9,
   "metadata": {},
   "outputs": [],
   "source": [
    "bigram_phraser = Phraser(phrases_model=bigram_phrases)"
   ]
  },
  {
   "cell_type": "markdown",
   "metadata": {},
   "source": [
    "Le `Phraser` est un objet qui convertit certains unigrams d'une liste en bigrams lorsqu'ils ont été identifiés comme pertinents."
   ]
  },
  {
   "cell_type": "markdown",
   "metadata": {},
   "source": [
    "### Extraction des trigrams"
   ]
  },
  {
   "cell_type": "markdown",
   "metadata": {},
   "source": [
    "Nous répétons l'opération en envoyant cette fois la liste de bigrams afin d'extraire les trigrams."
   ]
  },
  {
   "cell_type": "code",
   "execution_count": 10,
   "metadata": {},
   "outputs": [],
   "source": [
    "trigram_phrases = Phrases(bigram_phraser[sentences])"
   ]
  },
  {
   "cell_type": "code",
   "execution_count": 11,
   "metadata": {},
   "outputs": [],
   "source": [
    "trigram_phraser = Phraser(phrases_model=trigram_phrases)"
   ]
  },
  {
   "cell_type": "markdown",
   "metadata": {},
   "source": [
    "### Création d'un corpus d'unigrams, bigrams, trigrams"
   ]
  },
  {
   "cell_type": "code",
   "execution_count": 12,
   "metadata": {},
   "outputs": [],
   "source": [
    "corpus = list(trigram_phraser[bigram_phraser[sentences]])"
   ]
  },
  {
   "cell_type": "code",
   "execution_count": 13,
   "metadata": {},
   "outputs": [
    {
     "name": "stdout",
     "output_type": "stream",
     "text": [
      "[['prouva', 'de', 'la', 'falsification', '.'], ['elle', 'l', \"'\", 'a', 'si', 'uicit', 'senti', 'qu', \"'\", 'elle', 'vient_d', \"'\", 'adresser', 'aux', 'membres', 'dc', 'la_cour', 'des_explications', 'pour', 'refuter', 'l', \"'\", 'argumentation', 'de', 'm', '\"', 'b', '<', 't', \"'\", 'tolaud', '.'], ['<<', 'les', 'livres', 'lie', 'sont', 'pas', 'd', \"'\", 'accord', ',', '>>', 'me', 'dit', '-', 'on', '.'], ['quoi', 'd', \"'\", 'etonnant', 'a', 'cela', '?'], ['l', \"'\", 'un', 'contenait', '#>>', 'des', 'faits', ',', 'l', \"'\", 'aulre', 'des', 'impressions', '.'], ['or', ',', 'quand_je', '>>', 'jetais', 'mes', 'impressions', 'je_n', \"'\", 'attachais', 'aucune', 'impor', '-', '>>', 'tanca', 'aux', 'dates', '!'], ['>>', 'explication', 'bien', 'insuffisante', ':', '*', 'pourquoi', 'les', 'mettiez', '-', 'vous', '?'], ['mais', 'il', 'n', \"'\", 'y', 'a', 'pas', 'que', 'la_date', 'de', 'fausse', ';', 'ce', 'qui', 'se_trouve', 'sur', 'e', 'carne', 't', 'est', 'date', 'a', 'chaque', 'ligne', 'par', 'certains', 'details', 'en', 'contra', '-', 'dition', 'avec', 'la_realite', '.'], ['<<', 'si', 'j', \"'\", 'avais', 'voulu', 'tromper', '>>', 'j', \"'\", 'aurais', 'eu_soin', 'de', 'faire', 'concorder', 'les', 'dates', '!'], ['>>', 'm', '.', 'l', \"'\", 'avocat_general', 'constate', ',', 'en_outre', ',', 'des', 'interpolations', 'dans', 'l', \"'\", 'agenda', 'reste', 'en', 'la', 'possession', 'de', '#\"*', 'santerre', ';', 'ce', 'qui', 'n', \"'\", 'empeche', 'que', 'les', 'scenes', 'indiquees', 'ne', 'correspondent', 'pas', 'a', 'celles_qui', 'sont', 'datees', 'dans', 'les', 'articulations', '.'], ['ce', 'ne_sont', 'donc', 'que', 'tentatives', 'de', 'fraude', '.'], ['nous', 'estimons', 'donc', 'qu', \"'\", 'il_y', 'a', 'lieu', 'de', 'confirmer', 'le', 'jugement', '.'], ['sur', 'l', \"'\", 'appel', 'incident', 'nous_sommes', 'd', \"'\", 'avis', 'que', 'm', '.', 'santerre', ',', 'en_refusant', 'a', 'sa_femme', 'de', 'voir', 'ses_enfants', 'chtz', 'elle', ',', 'de', 'les', 'faire', 'sortir', ',', 'va', 'trop_loin', '.'], ['c', \"'\", 'est', 'une', 'aggravation', 'a', 'ce', 'qu', \"'\", 'avaient', 'decide', 'les_premiers', 'juges', '.'], ['mauvaise', 'epouse', 'm_(tm)', 'santerre', 'n', \"'\", 'a', 'pas', 'ete', 'mauvaise', 'mere', ',', 'elle', 'aimait', 'ses_enfants', 'avec', 'passion', ';', 'une', 'fomms', 'adultere', 'n', \"'\", 'est', 'pas', ',', 'par', 'cela', 'seul', ',', 'capable', 'de', 'corrompre', 'ses', 'entants', ';', 'peut_-', 'etre', 'plus', 'qu', \"'\", 'une', 'autro', 'se_montre', '-', 't', '-', 'elle', 'parfois', 'attenlive', 'ft', 'leur', 'education', '.'], ['11', 'convient', 'de', 'tenir_compte', '.'], ['w', 'santerre', 'de', 'ce', 'que', 'sa_conduite', 'n', \"'\", 'a', ',', 'depuis', '15', 'mois', ',', 'donne_lieu', 'a', 'aucune', 'remarque', 'facheuse', ';', 'en', 'lui', 'laissant', 'voir', 'ses_enfants', 'c', \"'\", 'est', 'l', \"'\", 'encourager', 'dans', 'cette_voie', 'meilleure', ';', 'c', \"'\", 'est', 'un', 'essai', 'a', 'faire', ',', 'sauf', 'a', 'revenir_sur', 'ces_dispositions', 'si', 'l', \"'\", 'essai', 'ne', 'reussissait', 'pas', '.'], ['a', 'lundi', 'pour', 'l', \"'\", 'arret', '.'], ['la', 'plainte', 'en', 'diffamation', 'portee', 'par', 'l', \"'\", 'ex_-', 'magistrat', 'bastien', 'contre', 'le_journal', 'le', 'toltairc', 'a', 'donne_lieu', 'a', 'un_debat', 'juridique', 'des', 'plus', 'interessants', 'sur', 'l', \"'\", 'admissibilite', 'i', 'la', 'preuve', 'qu', \"'\", 'entendait', 'faire', 'le', 'prevenu', '.'], ['nous', '-', 'avons', 'resume', 'les', 'points', 'saillants', 'de', 'ce', 'debat', 'sur_lequel', 'le_tribunal', 'a', 'rendu', \"aujourd_'\", 'hui', 'jugement', '.'], ['m', '.', 'bastien', 's', \"'\", 'opposait', 'a', 'la', 'preuve', ';', 'il', 'opposait', 'une', 'decheance', 'de', 'procedure', ',', 'puis', 'soutenait', 'que', 'les', 'faits', 'ayant_ete', 'apprecies', 'par', 'la_cour', 'de', 'cassation', 'il_y', 'avait', 'la', 'chose', 'jugee', '.'], ['le_tribunal', 'ecarte', 'comas', 'non', 'recevable', 'le', 'moyen', 'tire', 'de', 'l', \"'\", 'inobservance', 'des', 'delais', '.'], ['il', 'a', 'admis', 'que', 'les', 'faits', 'deja', 'apprecies', 'a', 'la_cour', 'de', 'cassation', ',', 'en', 'ce_qui_concerne', 'la', 'conduite', 'de', 'm', '.', 'bas', '-', 'tien', 'a', 'saint_-', 'omer', ',', 'l', \"'\", 'avaient_ete', 'souverainement', ',', 'qu', \"'\", 'il', 'n', \"'\", 'etait', 'plus', 'permis', 'de', 'rechercher', 'le_caractere', 'd', \"'\", 'actes', 'qu', \"'\", 'une', 'juridiction', 'superieure', 'avait', 'declare', 'ne', 'me', '-', 'rite', \"*:'\", 'aucun', 'reproche', '.'], ['mais', ',', 'en', 'ce_qui_touche', 'la', 'preuve', 'de', 'la', 'bonne_foi', ',', 'il', 'declare_que', 'cette_preuve', 'est', 'toujours', 'de', 'droit', 'pour', 'le', 'prevenu', ',', 'qu', \"'\", 'elle', 'constitule', 'le_caractere', 'delictueux', '.'], ['le', 'jugement', 'ajoute_que', ',', 'si', 'desirable', 'que', 'puisse_etre', 'la', 'comparution', 'des', 'parties', 'pour', 'etablir', 'un_debat', 'contradictoire', ',', 'il', 'n', \"'\", 'y', 'a', 'pas', 'lieu', ',', 'parsuite', 'de', 'la', 'resistance', 'de', 'm', '.', 'bastien', ',', 'de', 'l', \"'\", 'or', '>>', '1onner', ',', 'l', \"'\", 'injonction', 'qui', 'serait', 'faite', 'a', 'cet', 'eg', '>>', 'ird', 'devant', 'rester', 'depourvue', 'de', 'sanction', '.'], ['rejette', 'la', 'preuve', 'sur', 'les', 'faits', 'apprecies', 'par', 'la', 'couv', 'de', 'cassalion', '.'], ['l', \"'\", 'admet', ',', 'au_contraire', ',', 'sur', 'la_question', 'de', 'bonne', 'loi', 'alleguee', 'par', 'le', 'prevenu', ',', 'et', 'renvoie', 'a', 'quatre', 'semaines', 'pour', 'entendre', 'les', 'temoins', 'que', 'le', 'voltaire', 'fera', 'citer', '.'], ['quant_aux', 'faits', 'nouveaux', 'qui', ',', 'au', 'dire', 'du', 'prevenu', ',', 'constitueraient', 'des_charges', 'nouvelles', 'contre', 'bastien', ',', 'reserve', 'au', 'voltaire', 'le_droit', 'de', 'les', 'denoncer', ',', 'comme', 'il', 'a_ete', 'fait', 'des_premiers', ',', 'a', 'la_cour', 'de', 'cassation', '.'], ['l', \"'\", 'ar', '-', 'voie_telegraphique', '.'], ['paris', ',', '10_mai', ',', '2_heures', ',', 'la_cour', 'a', 'reniu', \"aujourd_'\", 'hui', 'f', 'on', 'arret', '.'], ['les', 'considerants', 'sont', 'severes', 'pour', 'm_\"\\'', 'santerre', '.'], ['l', \"'\", 'arret', 'la', 'declare', 'adultere', 'et', 'rejette', 'les', 'griefs', 'invoques', 'par', 'elle', 'contre', 'son_mari', '.'], ['pour', \"'\", 'echapper', 'a', 'l', \"'\", 'amendement', 'brisson', ',', 'les', 'congregations', 'avaient', ',', 'sur', 'la', 'recommandation', 'de', 'rome', ',', 'decide', 'de', 'ne', 'pas', 'solliciter', 'les', 'autorisations', 'exigees', 'par', 'la_loi', 'et', 'par', 'les', 'decrets', 'du', '29_mars', ',', 'afin', 'de', 'ne', 'pas', 'avoir', 'a', 'donner', 'd', \"'\", 'informations', 'sur', 'leur', 'situation', 'pecuniaire', '.'], ['le_president', 'de', 'la_commission', 'du_budget', 'vient_d', \"'\", 'adresser', 'la', 'lettre_suivante', 'a', 'm', '.', 'le_ministre_des_finances', ':_<<', 'paris', ',', '6', 'mai', '1880', '.'], ['>>', 'monsieur_le_ministre', ',', '>>', 'pour', 'apprecier', 'toute', 'la_portee', 'de', 'l', \"'\", 'amendement', 'que', 'j', \"'\", 'ai', 'preseute', 'a', 'la_loi', 'de', 'finances', 'et', 'qui_concerne', 'les', 'congregations', ',', 'la_commission', 'du_budget', 'vous', 'sera', 'obligee', 'de', 'lui', 'faire', 'remettre', 'le', 'plus_tot', 'possible', 'le', 'releve', ',', 'par', 'departement', ',', 'des', 'biens', 'possedes', 'ou', 'occupes_par', 'des', 'congregations_religieuses', 'autorisees', 'ou', 'non', 'autorisees', '.'], ['>>', 'ce_document', 'devrait', 'fournir', 'une', 'indication', 'de', 'la', 'nalure', ',', 'de', 'la_situation', ',', 'de', 'la', 'contenance', 'et', 'de', 'la', 'valeur', 'de', 'chaque', 'immeuble', ',', 'avec', 'le_nom', 'du', 'proprietaire', '.'], ['>>', 'il_serait', 'bon', 'd', \"'\", 'y', 'joindre', 'la_liste', 'des', 'immeubles', 'dc', 'l', \"'\", 'etat', 'actuellement', 'occupes_par', 'ces', 'corporations', '.'], ['>>', 'la', 'presente', 'lettre', 's', \"'\", 'applique', ',', 'bien', 'eutendu', ',', 'aux', 'societes', 'civiles', 'de', 'nature', 'diverse', 'qui', 'souvent', 'sont', 'ia', 'forme', 'exterieure', 'des', 'communautes', '.'], ['>>', 'les', 'renseignements', 'que', 'possedent', 'deja', 'les', 'services', 'des_contributions_directes', 'et', 'de', 'l', \"'\", 'enregistrement', 'permettent', 'a', 'votre', 'administration', 'de', 'terminer', 'promptement', 'ce', 'travail', ',', 'qui', 'ne_sera', ',', 'en_somme', ',', 'qu', \"'\", 'un', 'releve', '.'], ['>>', 'toutes_les', 'fois', 'qu', \"'\", 'il', 'sera', 'possible', ',', 'sans', 'le', 'retarder', ',', 'd', \"'\", 'y', 'joindre', 'l', \"'\", 'indication', 'des', 'industries', 'ou', 'des', 'commbrees', 'exsrces', 'dans', 'ces', 'immeubles', ',', 'ce', 'sera', 'la', 'un', 'complement', 'avantageux', ';', 'ce', 'renseignement', 'particulier', 'est', 'd', \"'\", 'ailleurs', ',', 'en', 'general', ',', 'tres', 'facile', 'a', 'obtenir', '.'], ['>>', 'enfin', ',', 'une', 'recapitulation', 'par', 'congregation', 'rendrait', 'ce', 'travail', 'plus_complet', 'encore', ',', 'et', 'ja', 'vous', 'serais', 'reconnaissant', 'de', 'la', 'faire', 'preparer', '.'], ['>>', 'veuillez', 'agreer', ',', 'etc', '.', \"'\"], ['>>', 'henri', 'brisson', '.'], ['>>', 'la_republique', 'francaise', 'annonce_que', 'm', '.', 'spuller', ',', 'qui', 'avait_ete', 'atteint', 'd', \"'\", 'une', 'variololde', ',', 'est', 'entre', 'en', 'convalescence', '.'], ['encore', 'quelques_jours', 'de', 'repos', ',', 'et', 'm', '.', 'spuller', 'pourra', 'reprendre', 'ses', 'occupations', '.'], ['--', 'm', '\\'\"', 'zulma', 'bouffar', ',', 'l', \"'\", 'artiste', 'bien_connue', 'du_theatre', 'de', 'la', 'renaissance', ',', 's', \"'\", 'etait', 'attardee', 'mercredi_soir', 'chez', 'sa', 'camarade', ',', 'm', '\"', 'e', 'silly', ',', 'qui', 'demeure', 'au', 'coin', 'de', 'la', 'rue', 'la', 'fayette', 'et', 'de', 'la', 'rue', 'le', 'pelelier', '.'], ['vers_minuit', ',', 'elle', 'se', 'disposa', 'a', 'regagner', 'son', 'logis', ',', 'a', 'l', \"'\", 'entree', 'de', 'la', 'rue', 'de', 'grammont', '.'], ['elle', 'se', 'dirigeait', 'vers', 'le', 'boulevard', 'par', 'la', 'rue', 'laffitte', ';', 'en', 'longeant', 'le', 'trottoir', 'de', 'gauche', ',', 'a', 'la', 'hauteur', 'du', 'n', '*', '10', ',', 'elle', 'vit', ',', 'venant', 'du', 'boulevard', ',', 'un', 'jeune_homme', 'd', \"'\", 'une_vingtaine', 'd', \"'\", 'annees', ',', 'tres', 'correctement', 'vetu', ',', 'qui', ',', 'en', 'approchant', 'd', \"'\", 'elle', ',', 'parut', 'vouloir', 'effacer', 'le', 'bras_droit', 'pour', 'laisser_passer', 'l', \"'\", 'actrice', 'plus', 'librement', '.'], ['au', 'meme', 'moment', ',', 'celle_-_ci', 'recevait', 'dans', 'le', 'ventre', 'un_coup', 'qui', 'lui_faisait', 'pousser', 'un_cri', 'de', 'douleur', '.'], ['il', 'etait', 'environ', 'une_heure', 'du_matin', '.'], ['m', ',', 'le', 'zulma', 'bouffar', 'rassembla', 'ses_forces', 'et', 'continua', 'son', 'chemin', 'au', 'plus', 'vile', ',', 'tandis_que', 'son', 'agresseur', ',', 'poste', 'sur', '.'], ['le', 'trottoir', 'd', \"'\", 'en_face', ',', 'observait', 'tranquillement', 'les', 'suites', 'de', 'ce', 'qu', \"'\", 'il_venait', 'de', 'faire', '.'], ['lorsque', ',', 'rentree', 'chez', 'elle', ',', 'm_\"\"', 'zulma', 'bouffar', 'se', 'deshabilla', 'pour', 'se', 'meltre', 'au', 'lit', ',', 'elles', \"'\", 'apercut', 'que', 'ses_vetements', 'etaient', 'inondes', 'de', 'sang', '.'], ['elle', 'avait_recu', 'dans', 'le', 'bas', '-', 'ventre', 'un_coup', 'd', \"'\", 'un', 'instrument', 'piquant', ',', 'que', 'le', 'medecin', ',', 'appele', 'pour', 'lui_donner', 'des', 'soins', ',', 'pense', 'etre', 'un', 'grattoir', 'dien', 'aiguise', '.'], ['la', 'plaie', ',', 'd', \"'\", 'ailleurs', ',', 'est', 'deja', 'cicatrisee', ',', 'les', 'vetements', 'assez', 'epais', 'dont', 'etait', 'revetue', 'm', '1_\"', 'bouffarl', \"'\", 'ayaht', 'preservee', 'd', \"'\", 'une', 'blessure', 'qui', 'aurait_pu', 'etre', 'tres_grave', '.'], ['--', 'un_nouveau', 'scandale', 'cbez', 'les', 'freres', 'des_ecoles', 'chretiennes', 'de', 'guise', '(', 'aisne', ').'], ['un', 'frere', 'nomme', 'louis', 'resser', 'a', 'disparu', ',', 'il_y', 'a', 'une_quinzaine', 'de', 'jours', ',', 'apres', 's', \"'\", 'etre', 'rendu', 'coupable', ',', 'sur', 'des', 'enfants', 'confies', 'a', 'ses_soins', ',', 'd', \"'\", 'attentats', 'si', 'revoltants', ',', 'qu', \"'\", 'il_serait', 'impossible', 'de', 'les', 'indiquer', ',', 'meme', 'en', 'latin', '.'], ['le_correspondant', 'du', 'courtier', 'de', 'l', \"'\", 'aisne', '_', 'entre_les_mains', 'une_declaration', 'des', 'faits', 'signee', 'par', 'deux', 'des', 'parents', 'des', 'enfants', 'souilles', '.'], ['on_parle', 'de', 'douze', 'et', 'meme', 'de', 'quinze', 'eleves', 'sur_lesquels', 'le', 'frere', 'resser', 'aurait', 'assouvi', 'ses', 'infames', 'passions', '.'], ['au', 'dire', 'de', 'deux', 'des_victimes', 'da', 'ce', 'monstrueux', 'personnage', ',', 'il_y', 'a', 'plus', 'de', 'trois_ans', 'que', 'resser', 'aurait', 'commence', 'la', 'serie', 'de', 'ses', 'exploits', ',', 'et', 'si', 'l', \"'\", 'on', 'n', \"'\", 'en', 'a', 'rien', 'su', ',', 'c', \"'\", 'est', 'qu', \"'\", 'il', 'menacait', 'les', 'enfanls', ',', 'objets', 'de', 'ses', 'predilections', 'coupables', ',', 'de', 'peines', 'corporelles', 'en', 'ce', 'monde', 'et', 'de', 'peines', 'spirituelles', 'dans', 'l', \"'\", 'autre', ',', 'pour', 'le', 'cas_ou', 'ils', 'viendraient', 'a', 'denoncer', 'leur', 'corrupteur', '.'], ['on', 'ajoute', 'qu', \"'\", 'avant', 'le', 'depart', 'du', 'frere', 'resser', ',', 'le', 'superieur', 'de', 'l', \"'\", 'etablissement', ',', 'averti', 'de', 'ce', 'qui', 'se_passait', ',', 'aurait', 'interroge', 'les', 'eleves', 'et', 'leur', 'aurait', 'formellement', 'interdit', 'de', 'souiller', 'mot', 'de', 'cette', 'lamentable', 'affaire', '.'], ['--', 'pres', 'de', '16', ',', '000', 'ouvriers', 'de', 'l', \"'\", 'industrie', 'lainiere', 'sont', 'en', 'greve', 'a', 'roubaix', ',', 'et', '5', ',', '000', 'a', 'tour', '-', '#', 'coing', ',', 'leur', 'atiitude', 'est', 'absolument', 'calme', '.'], ['il_y', 'a', 'eu', 'une', 'nombreuse', 'reunion', 'dans', 'un', 'hameau', 'belge', ',', 'sur_la_frontiere', ';', 'mais', 'ils', 'se_sont', 'disperses', 'pour_entrer', 'en_france', '.'], ['plusieurs', 'groupes', 'de', 'delegues', 'se_sont_reunis', 'a', 'la_mairie', 'de', 'tourcoing', ';', 'demain', ',', 'reunion', 'des', 'patrons', '.'], ['on_espere', 'une_entente', ';', 'on', 'n', \"'\", 'a', 'pas', 'le', 'meme', 'espoir', 'encore', 'a', 'roubaix', '.'], ['bulletin', 'kaeteorolotslciuo', 'do', 'paris', '.'], [\"aujourd_'\", 'hui', ',', '9', 'mal', ',', 'le_thermometre', 'de', 'la', 'maison', 'quesiin', ',', 'rue', 'de', 'la_bourse', ',', 'marquait_:', 'a', '7', 'neures', 'du', 'matm', '5_deg', 'au_-_dessus', 'de', 'zero', 'au', '>>', '>>', '12', '\"', '--', 'a', '1', 'heureapres', '-', 'midi', '14', 'deg', '--_hauteur_barometrique', '760', '.'], ['communications', 'et', 'avis_divers', 'le_moniteur', 'dee', 'tirages', 'financiers', 'compte', 'dix', '-', 'sept', 'annees', 'd', \"'\", 'existence', 'ct', 'a', 'vu', 's', \"'\", 'elever', 'progressivement', 'a', '50', '.', '000', 'le', 'nombre', 'de', 'ses_abonnes', '.'], ['il', 'doit', 'sonsucces', ',', 'loujours', 'grandissant', ',', 'a', 'l', \"'\", 'exaclilud', '>>', 'et', 'a', 'l', \"'\", 'impartialite', 'avec', 'lesquelles', 'il', 'renseigne', 'le', 'lecteur', 'sur', 'toutes_les', 'valeurs', 'et', 'le', 'tient', 'au_courant', 'de', 'toutes_les', 'nouvelles', 'affaires', 'qui', 'se_presentent', '.'], ['abonnement', ':', '4', 'fr', '.'], ['par', 'an', ',', '16', ',', 'rue', 'le', 'peletier', '.'], ['en_province', ',', 'dans', 'toutes_les', 'succureales', 'du', 'credit_general', 'francais', '.'], ['iioli', '^', 'jeisles', 'd', \"'^\", 'cjlemagw', \"'\", 's', ',', 'correspond', ',', 'particul', '.'], ['de', '/', 'independance', 'delge', '.'], ['berlin', ',', '9', 'mai', '.'], ['comme', 'bien', 'vous_pensez', ',', 'les', 'commentaires', 'ne', 'font', 'pas', 'defaut', 'sur', 'le', 'discours', 'du', 'princo', 'de', 'bismarck', '.'], ['bais', 'les', 'appreciations', 'sur', 'le', 'veritable', 'but', 'de', 'ce_discours', 'sont', 'bien', 'divergentes', '.'], ['l', \"'\", 'impression', 'la', 'plus', 'repandue', 'est', 'que', 'le', 'chancelier', ',', 'independamment', 'de', 'son', 'desir', 'de', 'combattre', 'l', \"'\", 'amendement', 'de', 'm', '.', 'delbruck', 'sur', 'l', \"'\", 'objet', 'en', 'discussion', ',', 'a', 'voulu', 'avant', 'la', 'cloture', 'dire', 'leur', 'fait', ',', 'si', 'l', \"'\", 'on_peut', 's', \"'\", 'exprimer', 'ainsi', ',', 'aux', 'differents', 'parlis', 'dont', 'les', 'votes', 'ne', 'l', \"'\", 'ont', 'pas', 'satisfait', 'dans_ces_derniers', 'temps', '.'], ['reste', 'a', 'attendre', 'maintenant', 'la', 'replique', 'des_deputes', 'progressistes', 'et', 'des', 'autres', '.'], ['l', \"'\", 'attitude', 'du_centre', ',', 'comme', 'jevous', 'l', \"'\", 'ai', 'dil', 'deja', ',', 'est', 'encore', 'douteuse', ',', 'etc', \"'\", 'est', 'pourquoi', 'la_majorite', ',', 'en', 'ce_qui_concerne', 'l', \"'\", 'amendement', 'delbruck', ',', 'ne_saurait', 'encore', 'etre', 'prevue', 'avec', 'certitude', '.'], ['il_faut', 'bien', 'comprendre', 'le', 'prejudice', 'que', 'pourrait', 'causer', 'a', 'hambourg', 'une', 'frontiere', 'douaniere', 'sur', 'l', \"'\", 'elbe', 'meme', ',', 'en', 'aval', 'de', 'la_ville', ',', 'vers', 'la', 'mer', '.'], ['dans', 'l', \"'\", 'etat_actuel', ',', 'les', 'deux', 'rives', 'entre', 'la_ville', 'et', 'la', 'mer', 'sont', 'gardees', 'par', 'les', 'douanes', 'imperiales', 'qui', 'empechent', 'la', 'contrebande', 'de', 'la_riviere', 'vers', 'l', \"'\", 'interieur', '.'], ['si', 'la', 'fronliere', 'est', 'portee', 'plus_loin', ',', 'ces', 'gardes', 'seraient', 'retires', 'des', 'rives', ',', 'et', 'les', 'navires', 'du_dehors', 'en', 'destination', 'de', 'hambourg', 'devraient', 'stationnera', 'la_frontiere', '-,', 'etre', 'accompagnes', 'de', 'gardes', 'douaniers', 'speciaux', 'el', 'subir', 'd', \"'\", 'autres', 'formalites', 'qui_auraient', 'pour', 'effet', 'de', 'neutraliser', 'considerablement', 'les', 'avantages', 'de', 'la', 'franchise', 'du', 'port', 'pour', 'hambourg', '.'], ['c', \"'\", 'est', 'pourquoi', 'la_ville', 'de', 'hambourg', 'a', 'un', 'interet', 'evident', 'a', 'oe', 'que', 'la_frontiere', 'ne', 'puisse_etre', 'deplacee', 'sans', 'la', 'cooperation', 'du_parlement', '.'], ['c', \"'\", 'est', 'ce', 'que', 'demande', 'l', \"'\", 'amendement', 'ielbruek', 'a', 'l', \"'\", 'acte', 'de', 'navigation', 'revise', ',', 'conclu', 'a', 'vienne', 'le', '7_mars', 'dernier', '.'], ['le_prince', 'de', 'bismarck', ',', 'dans', 'son_discours', ',', 'a', 'bien', 'donne', 'a', 'entendre', 'qu', \"'\", 'au_besoin', 'il', 'passerait', 'outre', 'sur', 'le', 'vote', 'du_parlement', 'en', 'affirmant', 'la', 'competence', 'exclusive', 'du_conseil', 'federal', '.'], ['mais', 'celui_-_ci', 'devrait', 'd', \"'\", 'abord', 'prendre_une_decision', 'dans', 'le', 'meme', 'sens', '.'], [\"'.\"], [\"'.\"], ['quant_a', 'l', \"'\", 'affaire', 'du', 'faubourg_saint_-', 'paul', ',', 'les', 'comites', 'pour', 'le', 'commerce', 'et', 'les', 'douanes', 'vont', 'proposer', 'au', 'conseil_federal', 'd', \"'\", 'entrer', '-', 'dans', '-', 'la_discussion', '*', 'technique', 'de', 'l', \"'\", 'affaire', 'sans', 'prejuger', 'la_question', 'de', 'droil', ';', 'et', 'la_question', 'constitutionnelle', '.'], ['le_conseil_federal', 'va', 'probablement', 'y', 'faire', 'droit', 'en', 'ordonnant', 'une_enquete', 'dans_ce_sens', 'et', 'en', 'chargeant', 'les', 'comites', 'de', 'cette', '<<', 'nquete', '.'], ['l', \"'\", 'essentiel', ',', 'alors', ',', 'c', \"'\", 'est', 'que', 'la_frontiere', 'qu', \"'\", 'il', 's', \"'\", 'agit', 'de', 'tracer', 'soit', 'accepte', '>>', 'par', 'le_senat', 'de', 'hambourg', '.'], ['>>', '.'], ['#', ':', '>>,', ':', '\"', '\"#', '--', '\"~', \">>.'.-.\"], ['i', 's', '.', ',', '.'], [\"',,\", 'nouvelles', 'ifi', \"'\", 'angleterre', '.'], ['dans', 'la', 'grande_salle', 'de', 'saint', 'james', ',', 'a', 'londres', ',', 'a', 'eu_lieu', 'jeudi', 'un_meeting', 'de', '3', ',', '000', 'a', '4', ',', '000', 'femmes', 'venues', 'de', 'toutes', '!'], ['les', 'parties', 'du_pays', 'pour_protester', 'contre', 'leur', 'exclusion', 'du', 'droit', 'de', 'voter', 'pour', 'les_membres', 'du_parlement', '.'], ['m', '1', '\"\"', 'la', 'vicomtesse', 'haberton', 'presidait', '.'], ['parmi_les', 'dames', 'deleguees', 'on_remarquait', 'des_deputations', 'de', 'birmingham', ',', 'bolton', ',', 'brighton', ',', 'bristol', ',', 'cheltenham', '.']]\n"
     ]
    }
   ],
   "source": [
    "print(corpus[:100])"
   ]
  },
  {
   "cell_type": "markdown",
   "metadata": {},
   "source": [
    "## Entrainement d'un modèle Word2Vec sur ce corpus"
   ]
  },
  {
   "cell_type": "code",
   "execution_count": 85,
   "metadata": {},
   "outputs": [
    {
     "name": "stdout",
     "output_type": "stream",
     "text": [
      "CPU times: total: 19.2 s\n",
      "Wall time: 8.36 s\n"
     ]
    }
   ],
   "source": [
    "%%time\n",
    "model = Word2Vec(\n",
    "    corpus, # On passe le corpus de ngrams que nous venons de créer\n",
    "    vector_size=32, # Le nombre de dimensions dans lesquelles le contexte des mots devra être réduit, aka. vector_size\n",
    "    window=20, # La taille du \"contexte\", ici 5 mots avant et après le mot observé\n",
    "    min_count=1, # On ignore les mots qui n'apparaissent pas au moins 5 fois dans le corpus\n",
    "    workers=4, # Permet de paralléliser l'entraînement du modèle en 4 threads\n",
    "    epochs=5 # Nombre d'itérations du réseau de neurones sur le jeu de données pour ajuster les paramètres avec la descente de gradient, aka. epochs.\n",
    ")"
   ]
  },
  {
   "cell_type": "markdown",
   "metadata": {},
   "source": [
    "#### Remarque\n",
    "\n",
    "Vous voyez ici que l'entrainement du modèle est parallélisé (sur 4 workers).\n",
    "\n",
    "Lors qu'on parallélise l'entrainement du modèle, 4 modèles \"séparés\" sont entrainés sur environ un quart des phrases.\n",
    "\n",
    "Ensuite, les résultats sont agrégés pour ne plus faire qu'un seul modèle.\n",
    "\n",
    "On ne peut prédire quel worker aura quelle phrase, car il y a des aléas lors de la parallélisation (p. ex. un worker qui serait plus lent, etc.).\n",
    "\n",
    "Du coup, les valeurs peuvent varier légèrement d'un entrainement à l'autre.\n",
    "\n",
    "Mais, globalement, les résultats restent cohérents."
   ]
  },
  {
   "cell_type": "markdown",
   "metadata": {},
   "source": [
    "### Sauver le modèle dans un fichier"
   ]
  },
  {
   "cell_type": "code",
   "execution_count": 86,
   "metadata": {},
   "outputs": [],
   "source": [
    "outfile = f\"../data/sents.txt\"\n",
    "model.save(outfile)"
   ]
  },
  {
   "cell_type": "markdown",
   "metadata": {},
   "source": [
    "## Explorer le modèle"
   ]
  },
  {
   "cell_type": "markdown",
   "metadata": {},
   "source": [
    "### Charger le modèle en mémoire"
   ]
  },
  {
   "cell_type": "code",
   "execution_count": 87,
   "metadata": {},
   "outputs": [],
   "source": [
    "model = Word2Vec.load(\"../data/sents.txt\")"
   ]
  },
  {
   "cell_type": "markdown",
   "metadata": {},
   "source": [
    "### Imprimer le vecteur d'un terme"
   ]
  },
  {
   "cell_type": "code",
   "execution_count": 88,
   "metadata": {},
   "outputs": [
    {
     "data": {
      "text/plain": [
       "array([-0.00155834, -0.71099657,  0.5927693 ,  0.41718817,  0.29334536,\n",
       "       -0.34502226,  0.36971065,  0.3293791 ,  0.0253643 , -0.35661077,\n",
       "        0.27195376, -0.14002466, -0.08990686, -0.3269614 ,  0.24489412,\n",
       "       -0.03300734, -0.46130705,  0.16409607,  0.82280767, -0.01309614,\n",
       "        1.0528188 ,  1.0611748 ,  0.2980314 ,  0.0690366 , -0.07991336,\n",
       "        0.47552693, -0.75191414, -0.14148535, -0.32444546,  0.24854971,\n",
       "        0.04758052,  0.79001117], dtype=float32)"
      ]
     },
     "execution_count": 88,
     "metadata": {},
     "output_type": "execute_result"
    }
   ],
   "source": [
    "model.wv[\"vaccin\"]"
   ]
  },
  {
   "cell_type": "markdown",
   "metadata": {},
   "source": [
    "### Calculer la similarité entre deux termes"
   ]
  },
  {
   "cell_type": "code",
   "execution_count": 93,
   "metadata": {},
   "outputs": [
    {
     "data": {
      "text/plain": [
       "0.17758182"
      ]
     },
     "execution_count": 93,
     "metadata": {},
     "output_type": "execute_result"
    }
   ],
   "source": [
    "model.wv.similarity(\"vaccination\", \"dogme\")"
   ]
  },
  {
   "cell_type": "markdown",
   "metadata": {},
   "source": [
    "### Chercher les mots les plus proches d'un terme donné"
   ]
  },
  {
   "cell_type": "code",
   "execution_count": 104,
   "metadata": {},
   "outputs": [
    {
     "data": {
      "text/plain": [
       "[('faibles', 0.8988722562789917),\n",
       " ('moutons', 0.8928266763687134),\n",
       " ('ames', 0.8921120762825012),\n",
       " ('restent', 0.8908241391181946),\n",
       " ('bien_portants', 0.8886749148368835),\n",
       " ('insignifiantes', 0.8880680799484253),\n",
       " ('vaccinees', 0.8766351342201233),\n",
       " ('valeurs_industrielles', 0.8734846115112305),\n",
       " ('producteurs', 0.8683286905288696),\n",
       " ('perdent', 0.8682953119277954),\n",
       " ('la_consommation', 0.8676751852035522),\n",
       " ('expediees', 0.8670964241027832),\n",
       " ('morts', 0.8620927929878235),\n",
       " ('abondantes', 0.8567662239074707),\n",
       " ('dommages', 0.8548779487609863),\n",
       " ('ces_derniers', 0.8528593182563782),\n",
       " ('inocules', 0.8527267575263977),\n",
       " ('acheteurs', 0.8522994518280029),\n",
       " ('les_affaires', 0.8521357774734497),\n",
       " ('fermement', 0.848473310470581),\n",
       " ('transactions', 0.8472214341163635),\n",
       " ('provenances', 0.843711793422699),\n",
       " ('poules', 0.8425905704498291),\n",
       " ('speculateurs', 0.8396398425102234),\n",
       " ('concurrents', 0.8394684195518494),\n",
       " ('precedents', 0.8391222953796387),\n",
       " ('sont_restes', 0.8386133313179016),\n",
       " ('realise', 0.8384605646133423),\n",
       " ('entieres', 0.8377857208251953),\n",
       " ('cent_cinquante', 0.8368206024169922),\n",
       " ('victimes', 0.8367149829864502),\n",
       " ('mortes', 0.8358993530273438),\n",
       " ('ferrure', 0.8338521122932434),\n",
       " ('non_vaccines', 0.8332767486572266),\n",
       " ('animaux', 0.8330284357070923),\n",
       " ('tenues', 0.8312581181526184),\n",
       " ('fermes', 0.8301504850387573),\n",
       " ('rares', 0.8301449418067932),\n",
       " ('resistent', 0.8299134969711304),\n",
       " ('tendance', 0.8292108178138733)]"
      ]
     },
     "execution_count": 104,
     "metadata": {},
     "output_type": "execute_result"
    }
   ],
   "source": [
    "model.wv.most_similar(\"vaccines\", topn=40)"
   ]
  },
  {
   "cell_type": "markdown",
   "metadata": {},
   "source": [
    "### Faire des recherches complexes à travers l'espace vectoriel"
   ]
  },
  {
   "cell_type": "code",
   "execution_count": 20,
   "metadata": {},
   "outputs": [
    {
     "name": "stdout",
     "output_type": "stream",
     "text": [
      "[('berlin', 0.807077944278717), ('rome', 0.7655918598175049), ('tokio', 0.7614746689796448), ('moscou', 0.7519477605819702), ('teheran', 0.7468174695968628), ('datee_du', 0.745754063129425), ('londres_londres', 0.7429144382476807), ('vienne', 0.7417282462120056), ('strasbourg', 0.7280466556549072), ('novembre', 0.7275460362434387)]\n"
     ]
    }
   ],
   "source": [
    "print(model.wv.most_similar(positive=['vaccin', 'londres'], negative=['belgique']))"
   ]
  }
 ],
 "metadata": {
  "kernelspec": {
   "display_name": "Python 3.10.7 ('tac_venv': venv)",
   "language": "python",
   "name": "python3"
  },
  "language_info": {
   "codemirror_mode": {
    "name": "ipython",
    "version": 3
   },
   "file_extension": ".py",
   "mimetype": "text/x-python",
   "name": "python",
   "nbconvert_exporter": "python",
   "pygments_lexer": "ipython3",
   "version": "3.10.7"
  },
  "vscode": {
   "interpreter": {
    "hash": "a8d41ae7ddd47c1c5bcdf4d93273f711679029825c9920781e78233ab4778cb8"
   }
  }
 },
 "nbformat": 4,
 "nbformat_minor": 4
}
