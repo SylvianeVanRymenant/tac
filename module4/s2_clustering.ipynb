{
 "cells": [
  {
   "cell_type": "markdown",
   "metadata": {},
   "source": [
    "# Clustering de documents"
   ]
  },
  {
   "cell_type": "markdown",
   "metadata": {},
   "source": [
    "## Imports"
   ]
  },
  {
   "cell_type": "code",
   "execution_count": 1,
   "metadata": {},
   "outputs": [],
   "source": [
    "import collections\n",
    "import os\n",
    "import string\n",
    "import sys\n",
    "\n",
    "import pandas as pd\n",
    "from nltk import word_tokenize\n",
    "from nltk.corpus import stopwords\n",
    "from pprint import pprint\n",
    "from sklearn.cluster import KMeans\n",
    "from sklearn.feature_extraction.text import TfidfVectorizer\n",
    "from sklearn.decomposition import PCA\n",
    "import numpy as np\n",
    "import matplotlib.pyplot as plt\n",
    "from scipy.spatial.distance import cosine"
   ]
  },
  {
   "cell_type": "code",
   "execution_count": 2,
   "metadata": {},
   "outputs": [
    {
     "name": "stderr",
     "output_type": "stream",
     "text": [
      "[nltk_data] Downloading package punkt to\n",
      "[nltk_data]     C:\\Users\\HP\\AppData\\Roaming\\nltk_data...\n",
      "[nltk_data]   Package punkt is already up-to-date!\n"
     ]
    },
    {
     "data": {
      "text/plain": [
       "True"
      ]
     },
     "execution_count": 2,
     "metadata": {},
     "output_type": "execute_result"
    }
   ],
   "source": [
    "import nltk\n",
    "\n",
    "nltk.download('punkt')"
   ]
  },
  {
   "cell_type": "code",
   "execution_count": 3,
   "metadata": {},
   "outputs": [],
   "source": [
    "data_path = \"../data/camille_vaccination/\""
   ]
  },
  {
   "cell_type": "markdown",
   "metadata": {},
   "source": [
    "## Choisir une décennie"
   ]
  },
  {
   "cell_type": "code",
   "execution_count": 4,
   "metadata": {},
   "outputs": [],
   "source": [
    "DECADE = '1890'"
   ]
  },
  {
   "cell_type": "markdown",
   "metadata": {},
   "source": [
    "## Charger tous les  fichiers de la décennie et en créer une liste de textes"
   ]
  },
  {
   "cell_type": "code",
   "execution_count": 5,
   "metadata": {},
   "outputs": [],
   "source": [
    "files = [f for f in sorted(os.listdir(data_path)) if f\"_{DECADE[:-1]}\" in f]"
   ]
  },
  {
   "cell_type": "code",
   "execution_count": 6,
   "metadata": {},
   "outputs": [
    {
     "data": {
      "text/plain": [
       "['KB_JB421_1899-03-20_01-00002.txt',\n",
       " 'KB_JB421_1899-05-27_01-00003.txt',\n",
       " 'KB_JB421_1899-06-01_01-00003.txt',\n",
       " 'KB_JB421_1899-11-30_01-00002.txt',\n",
       " 'KB_JB421_1899-12-11_01-00002.txt']"
      ]
     },
     "execution_count": 6,
     "metadata": {},
     "output_type": "execute_result"
    }
   ],
   "source": [
    "# Exemple de fichiers\n",
    "files[:5]"
   ]
  },
  {
   "cell_type": "code",
   "execution_count": 7,
   "metadata": {},
   "outputs": [],
   "source": [
    "texts = [open(data_path + f,encoding='utf-8').read() for f in files]"
   ]
  },
  {
   "cell_type": "code",
   "execution_count": 8,
   "metadata": {},
   "outputs": [
    {
     "data": {
      "text/plain": [
       "\"«wc-ri c^-g^;iÉWijMl|jj| dante moisson de bénédictions et de grâces. Gloire à Dieu qui s'est montré grand dans son œuvre. Discipulus. Le crime de Lille. Une lettre du Frère Flamidien à ses parents. Le Prèro Flamidien a écrit à ses parents une lettre pour les consoler. Nous extrayons de cette lettre, dout la lecture produit une impression favorable, les passages suivants : « Je le répète, quel honn\""
      ]
     },
     "execution_count": 8,
     "metadata": {},
     "output_type": "execute_result"
    }
   ],
   "source": [
    "# Exemple de textes\n",
    "texts[0][:400]"
   ]
  },
  {
   "cell_type": "markdown",
   "metadata": {},
   "source": [
    "## Vectoriser les documents à l'aide de TF-IDF"
   ]
  },
  {
   "cell_type": "code",
   "execution_count": 9,
   "metadata": {},
   "outputs": [],
   "source": [
    "# Création d'une fonction de pré-traitement\n",
    "def preprocessing(text, stem=True):\n",
    "    \"\"\" Tokenize text and remove punctuation \"\"\"\n",
    "    text = text.translate(string.punctuation)\n",
    "    tokens = word_tokenize(text)\n",
    "    return tokens"
   ]
  },
  {
   "cell_type": "markdown",
   "metadata": {},
   "source": [
    "### Instancier le modèle TF-IDF avec ses arguments"
   ]
  },
  {
   "cell_type": "code",
   "execution_count": 10,
   "metadata": {},
   "outputs": [],
   "source": [
    "vectorizer = TfidfVectorizer(\n",
    "    tokenizer=preprocessing,\n",
    "    stop_words=stopwords.words('french'),\n",
    "    max_df=0.5,\n",
    "    min_df=0.1,\n",
    "    lowercase=True)"
   ]
  },
  {
   "cell_type": "markdown",
   "metadata": {},
   "source": [
    "### Construire la matrice de vecteurs à l'aide de la fonction `fit_transform`"
   ]
  },
  {
   "cell_type": "code",
   "execution_count": 11,
   "metadata": {},
   "outputs": [],
   "source": [
    "tfidf_vectors = vectorizer.fit_transform(texts)"
   ]
  },
  {
   "cell_type": "code",
   "execution_count": 12,
   "metadata": {},
   "outputs": [
    {
     "data": {
      "text/plain": [
       "(743, 4044)"
      ]
     },
     "execution_count": 12,
     "metadata": {},
     "output_type": "execute_result"
    }
   ],
   "source": [
    "# Détail de la matrice\n",
    "tfidf_vectors.shape\n",
    "#rajout de .shape pendant l'explication, pour que ce soit plus clair"
   ]
  },
  {
   "cell_type": "markdown",
   "metadata": {},
   "source": [
    "### Imprimer le vecteur tf-IDF du premier document"
   ]
  },
  {
   "cell_type": "code",
   "execution_count": 13,
   "metadata": {},
   "outputs": [
    {
     "data": {
      "text/plain": [
       "division       0.201819\n",
       "crime          0.196691\n",
       "parents        0.172638\n",
       "août           0.162643\n",
       "l'enfant       0.143830\n",
       "                 ...   \n",
       "dépendances    0.000000\n",
       "dépense        0.000000\n",
       "dépenses       0.000000\n",
       "dépositaire    0.000000\n",
       "■■             0.000000\n",
       "Length: 4044, dtype: float64"
      ]
     },
     "execution_count": 13,
     "metadata": {},
     "output_type": "execute_result"
    }
   ],
   "source": [
    "pd.Series(\n",
    "    tfidf_vectors[0].toarray()[0],\n",
    "    index=vectorizer.get_feature_names_out()\n",
    "    ).sort_values(ascending=False)"
   ]
  },
  {
   "cell_type": "markdown",
   "metadata": {},
   "source": [
    "## Comprendre les vecteurs et leurs \"distances\""
   ]
  },
  {
   "cell_type": "code",
   "execution_count": 14,
   "metadata": {},
   "outputs": [
    {
     "data": {
      "text/plain": [
       "0"
      ]
     },
     "execution_count": 14,
     "metadata": {},
     "output_type": "execute_result"
    }
   ],
   "source": [
    "cosine([1, 2, 3], [1, 2, 3])"
   ]
  },
  {
   "cell_type": "code",
   "execution_count": 15,
   "metadata": {},
   "outputs": [
    {
     "data": {
      "text/plain": [
       "0.02004211298777725"
      ]
     },
     "execution_count": 15,
     "metadata": {},
     "output_type": "execute_result"
    }
   ],
   "source": [
    "cosine([1, 2, 3], [1, 2, 2])"
   ]
  },
  {
   "cell_type": "code",
   "execution_count": 16,
   "metadata": {},
   "outputs": [
    {
     "data": {
      "text/plain": [
       "0.07417990022744858"
      ]
     },
     "execution_count": 16,
     "metadata": {},
     "output_type": "execute_result"
    }
   ],
   "source": [
    "cosine([1, 2, 3], [2, 2, 2])"
   ]
  },
  {
   "cell_type": "markdown",
   "metadata": {},
   "source": [
    "### Tests sur nos documents"
   ]
  },
  {
   "cell_type": "code",
   "execution_count": 14,
   "metadata": {},
   "outputs": [],
   "source": [
    "tfidf_array = tfidf_vectors.toarray()"
   ]
  },
  {
   "cell_type": "code",
   "execution_count": 15,
   "metadata": {},
   "outputs": [
    {
     "data": {
      "text/plain": [
       "array([0., 0., 0., ..., 0., 0., 0.])"
      ]
     },
     "execution_count": 15,
     "metadata": {},
     "output_type": "execute_result"
    }
   ],
   "source": [
    "# Vecteur du document 0\n",
    "tfidf_array[0]"
   ]
  },
  {
   "cell_type": "code",
   "execution_count": 16,
   "metadata": {},
   "outputs": [
    {
     "data": {
      "text/plain": [
       "array([0., 0., 0., ..., 0., 0., 0.])"
      ]
     },
     "execution_count": 16,
     "metadata": {},
     "output_type": "execute_result"
    }
   ],
   "source": [
    "# Vecteur du document 1\n",
    "tfidf_array[1]"
   ]
  },
  {
   "cell_type": "code",
   "execution_count": 17,
   "metadata": {},
   "outputs": [
    {
     "data": {
      "text/plain": [
       "0.8188780567033955"
      ]
     },
     "execution_count": 17,
     "metadata": {},
     "output_type": "execute_result"
    }
   ],
   "source": [
    "cosine(tfidf_array[0], tfidf_array[1])"
   ]
  },
  {
   "cell_type": "markdown",
   "metadata": {},
   "source": [
    "## Appliquer un algorithme de clustering sur les vecteurs TF-IDF des documents"
   ]
  },
  {
   "cell_type": "markdown",
   "metadata": {},
   "source": [
    "Pour en savoir plus sur le KMeans clustering :\n",
    "- https://medium.com/dataseries/k-means-clustering-explained-visually-in-5-minutes-b900cc69d175"
   ]
  },
  {
   "cell_type": "markdown",
   "metadata": {},
   "source": [
    "### Définir un nombre de clusters"
   ]
  },
  {
   "cell_type": "code",
   "execution_count": 18,
   "metadata": {},
   "outputs": [],
   "source": [
    "N_CLUSTERS = 4"
   ]
  },
  {
   "cell_type": "markdown",
   "metadata": {},
   "source": [
    "### Instancier le modèle K-Means et ses arguments"
   ]
  },
  {
   "cell_type": "code",
   "execution_count": 19,
   "metadata": {},
   "outputs": [],
   "source": [
    "km_model = KMeans(n_clusters=N_CLUSTERS)"
   ]
  },
  {
   "cell_type": "markdown",
   "metadata": {},
   "source": [
    "### Appliquer le clustering à l'aide de la fonction `fit_predict`"
   ]
  },
  {
   "cell_type": "code",
   "execution_count": 20,
   "metadata": {},
   "outputs": [],
   "source": [
    "clusters = km_model.fit_predict(tfidf_vectors)"
   ]
  },
  {
   "cell_type": "code",
   "execution_count": 21,
   "metadata": {},
   "outputs": [],
   "source": [
    "clustering = collections.defaultdict(list)\n",
    "\n",
    "for idx, label in enumerate(clusters):\n",
    "    clustering[label].append(files[idx])"
   ]
  },
  {
   "cell_type": "code",
   "execution_count": 22,
   "metadata": {},
   "outputs": [
    {
     "name": "stdout",
     "output_type": "stream",
     "text": [
      "{0: ['KB_JB555_1892-10-25_01-00003.txt',\n",
      "     'KB_JB555_1894-10-15_01-00004.txt',\n",
      "     'KB_JB555_1895-04-04_01-00003.txt',\n",
      "     'KB_JB555_1895-10-10_01-00003.txt',\n",
      "     'KB_JB555_1895-10-13_01-00004.txt',\n",
      "     'KB_JB555_1896-03-14_01-00003.txt',\n",
      "     'KB_JB555_1896-04-10_01-00003.txt',\n",
      "     'KB_JB555_1896-06-26_01-00003.txt',\n",
      "     'KB_JB555_1897-09-19_01-00003.txt',\n",
      "     'KB_JB555_1898-03-11_01-00003.txt',\n",
      "     'KB_JB567_1890-05-09_01-00003.txt',\n",
      "     'KB_JB567_1891-07-28_01-00003.txt',\n",
      "     'KB_JB567_1892-02-05_01-00003.txt',\n",
      "     'KB_JB567_1894-10-25_01-00003.txt',\n",
      "     'KB_JB567_1896-10-21_01-00003.txt',\n",
      "     'KB_JB567_1897-04-13_01-00003.txt',\n",
      "     'KB_JB567_1899-07-06_01-00003.txt',\n",
      "     'KB_JB638_1890-06-16_01-00003.txt',\n",
      "     'KB_JB638_1890-07-12_01-00003.txt',\n",
      "     'KB_JB638_1892-02-05_01-00003.txt',\n",
      "     'KB_JB638_1892-02-23_01-00003.txt',\n",
      "     'KB_JB638_1892-03-01_01-00003.txt',\n",
      "     'KB_JB638_1892-03-15_01-00003.txt',\n",
      "     'KB_JB638_1892-04-05_01-00003.txt',\n",
      "     'KB_JB638_1892-04-14_01-00003.txt',\n",
      "     'KB_JB638_1892-04-15_01-00003.txt',\n",
      "     'KB_JB638_1892-04-26_01-00003.txt',\n",
      "     'KB_JB638_1892-05-24_01-00003.txt',\n",
      "     'KB_JB638_1892-06-23_01-00003.txt',\n",
      "     'KB_JB638_1892-06-28_01-00003.txt',\n",
      "     'KB_JB638_1892-07-05_01-00003.txt',\n",
      "     'KB_JB638_1892-07-12_01-00003.txt',\n",
      "     'KB_JB638_1892-07-18_01-00003.txt',\n",
      "     'KB_JB638_1892-07-19_01-00003.txt',\n",
      "     'KB_JB638_1892-08-03_01-00004.txt',\n",
      "     'KB_JB638_1892-08-09_01-00003.txt',\n",
      "     'KB_JB638_1892-08-22_01-00003.txt',\n",
      "     'KB_JB638_1892-08-23_01-00003.txt',\n",
      "     'KB_JB638_1892-09-13_01-00003.txt',\n",
      "     'KB_JB638_1892-09-20_01-00003.txt',\n",
      "     'KB_JB638_1892-09-27_01-00003.txt',\n",
      "     'KB_JB638_1892-10-04_01-00003.txt',\n",
      "     'KB_JB638_1892-10-11_01-00003.txt',\n",
      "     'KB_JB638_1892-10-18_01-00003.txt',\n",
      "     'KB_JB638_1892-10-25_01-00003.txt',\n",
      "     'KB_JB638_1892-11-08_01-00003.txt',\n",
      "     'KB_JB638_1892-11-14_01-00003.txt',\n",
      "     'KB_JB638_1892-11-15_01-00003.txt',\n",
      "     'KB_JB638_1892-11-29_01-00003.txt',\n",
      "     'KB_JB638_1892-12-05_01-00003.txt',\n",
      "     'KB_JB638_1892-12-19_01-00003.txt',\n",
      "     'KB_JB638_1892-12-20_01-00003.txt',\n",
      "     'KB_JB638_1892-12-26_01-00003.txt',\n",
      "     'KB_JB638_1893-02-03_01-00004.txt',\n",
      "     'KB_JB638_1893-02-15_01-00004.txt',\n",
      "     'KB_JB638_1893-02-27_01-00004.txt',\n",
      "     'KB_JB638_1893-03-08_01-00004.txt',\n",
      "     'KB_JB638_1893-03-17_01-00004.txt',\n",
      "     'KB_JB638_1893-03-24_01-00004.txt',\n",
      "     'KB_JB638_1893-03-28_01-00003.txt',\n",
      "     'KB_JB638_1893-04-03_01-00003.txt',\n",
      "     'KB_JB638_1893-04-11_01-00003.txt',\n",
      "     'KB_JB638_1893-04-12_01-00003.txt',\n",
      "     'KB_JB638_1893-04-24_01-00003.txt',\n",
      "     'KB_JB638_1893-05-12_01-00004.txt',\n",
      "     'KB_JB638_1893-05-16_01-00003.txt',\n",
      "     'KB_JB638_1893-06-05_01-00003.txt',\n",
      "     'KB_JB638_1893-06-12_01-00004.txt',\n",
      "     'KB_JB638_1893-06-13_01-00003.txt',\n",
      "     'KB_JB638_1893-06-19_01-00004.txt',\n",
      "     'KB_JB638_1893-06-23_01-00004.txt',\n",
      "     'KB_JB638_1893-07-10_01-00004.txt',\n",
      "     'KB_JB638_1893-07-12_01-00004.txt',\n",
      "     'KB_JB638_1893-07-17_01-00004.txt',\n",
      "     'KB_JB638_1893-07-24_01-00004.txt',\n",
      "     'KB_JB638_1893-08-21_01-00004.txt',\n",
      "     'KB_JB638_1893-08-28_01-00004.txt',\n",
      "     'KB_JB638_1893-09-05_01-00003.txt',\n",
      "     'KB_JB638_1893-09-11_01-00004.txt',\n",
      "     'KB_JB638_1893-09-18_01-00003.txt',\n",
      "     'KB_JB638_1893-09-28_01-00003.txt',\n",
      "     'KB_JB638_1893-12-15_01-00003.txt',\n",
      "     'KB_JB638_1893-12-24_01-00003.txt',\n",
      "     'KB_JB638_1893-12-27_01-00004.txt',\n",
      "     'KB_JB638_1894-01-05_01-00003.txt',\n",
      "     'KB_JB638_1894-01-11_01-00003.txt',\n",
      "     'KB_JB638_1894-01-12_01-00003.txt',\n",
      "     'KB_JB638_1894-01-15_01-00004.txt',\n",
      "     'KB_JB638_1894-01-17_01-00003.txt',\n",
      "     'KB_JB638_1894-01-18_01-00003.txt',\n",
      "     'KB_JB638_1894-01-23_01-00004.txt',\n",
      "     'KB_JB638_1894-01-25_01-00003.txt',\n",
      "     'KB_JB638_1894-01-26_01-00003.txt',\n",
      "     'KB_JB638_1894-01-29_01-00004.txt',\n",
      "     'KB_JB638_1894-02-05_01-00003.txt',\n",
      "     'KB_JB638_1894-02-07_01-00004.txt',\n",
      "     'KB_JB638_1894-02-09_01-00003.txt',\n",
      "     'KB_JB638_1894-10-15_01-00003.txt',\n",
      "     'KB_JB638_1898-04-30_01-00003.txt',\n",
      "     'KB_JB638_1899-01-07_01-00003.txt',\n",
      "     'KB_JB685_1895-10-20_01-0004.txt',\n",
      "     'KB_JB729_1896-08-16_01-00003.txt',\n",
      "     'KB_JB729_1896-10-21_01-00003.txt',\n",
      "     'KB_JB729_1897-01-06_01-00003.txt',\n",
      "     'KB_JB729_1898-03-07_01-00003.txt',\n",
      "     'KB_JB729_1898-09-21_01-00003.txt',\n",
      "     'KB_JB729_1899-01-10_01-00003.txt',\n",
      "     'KB_JB837_1894-06-09_01-00003.txt',\n",
      "     'KB_JB837_1894-10-25_01-00003.txt',\n",
      "     'KB_JB837_1897-07-18_01-00003.txt',\n",
      "     'KB_JB837_1898-05-05_01-00003.txt',\n",
      "     'KB_JB837_1898-05-22_01-00003.txt',\n",
      "     'KB_JB838_1890-05-09_01-00003.txt',\n",
      "     'KB_JB838_1896-09-16_01-00003.txt'],\n",
      " 1: ['KB_JB421_1899-03-20_01-00002.txt',\n",
      "     'KB_JB421_1899-05-27_01-00003.txt',\n",
      "     'KB_JB421_1899-06-01_01-00003.txt',\n",
      "     'KB_JB421_1899-11-30_01-00002.txt',\n",
      "     'KB_JB421_1899-12-11_01-00002.txt',\n",
      "     'KB_JB555_1890-05-10_01-00001.txt',\n",
      "     'KB_JB555_1890-06-19_01-00002.txt',\n",
      "     'KB_JB555_1890-07-20_01-00002.txt',\n",
      "     'KB_JB555_1890-08-13_01-00002.txt',\n",
      "     'KB_JB555_1890-10-01_01-00002.txt',\n",
      "     'KB_JB555_1891-01-04_01-00002.txt',\n",
      "     'KB_JB555_1891-02-16_01-00001.txt',\n",
      "     'KB_JB555_1891-03-19_01-00001.txt',\n",
      "     'KB_JB555_1891-03-19_01-00002.txt',\n",
      "     'KB_JB555_1892-02-05_01-00002.txt',\n",
      "     'KB_JB555_1892-03-26_01-00002.txt',\n",
      "     'KB_JB555_1892-07-18_01-00002.txt',\n",
      "     'KB_JB555_1892-07-22_01-00002.txt',\n",
      "     'KB_JB555_1892-07-30_01-00002.txt',\n",
      "     'KB_JB555_1892-09-15_01-00001.txt',\n",
      "     'KB_JB555_1892-09-19_01-00003.txt',\n",
      "     'KB_JB555_1893-03-19_01-00005.txt',\n",
      "     'KB_JB555_1893-04-16_01-00006.txt',\n",
      "     'KB_JB555_1893-05-17_01-00002.txt',\n",
      "     'KB_JB555_1893-07-05_01-00001.txt',\n",
      "     'KB_JB555_1893-07-21_01-00001.txt',\n",
      "     'KB_JB555_1893-07-23_01-00001.txt',\n",
      "     'KB_JB555_1893-09-02_01-00001.txt',\n",
      "     'KB_JB555_1894-01-29_01-00003.txt',\n",
      "     'KB_JB555_1894-02-22_01-00001.txt',\n",
      "     'KB_JB555_1894-03-26_01-00002.txt',\n",
      "     'KB_JB555_1894-05-26_01-00001.txt',\n",
      "     'KB_JB555_1894-06-09_01-00002.txt',\n",
      "     'KB_JB555_1894-10-06_01-00001.txt',\n",
      "     'KB_JB555_1894-10-25_01-00002.txt',\n",
      "     'KB_JB555_1894-11-17_01-00001.txt',\n",
      "     'KB_JB555_1894-11-28_01-00001.txt',\n",
      "     'KB_JB555_1895-02-05_01-00001.txt',\n",
      "     'KB_JB555_1895-02-20_01-00001.txt',\n",
      "     'KB_JB555_1895-04-14_01-00001.txt',\n",
      "     'KB_JB555_1895-04-21_01-00001.txt',\n",
      "     'KB_JB555_1895-04-21_01-00006.txt',\n",
      "     'KB_JB555_1895-08-31_01-00002.txt',\n",
      "     'KB_JB555_1895-09-29_01-00001.txt',\n",
      "     'KB_JB555_1895-12-26_01-00002.txt',\n",
      "     'KB_JB555_1896-02-02_01-00001.txt',\n",
      "     'KB_JB555_1896-02-18_01-00002.txt',\n",
      "     'KB_JB555_1896-04-06_01-00002.txt',\n",
      "     'KB_JB555_1896-06-28_01-00006.txt',\n",
      "     'KB_JB555_1896-08-05_01-00001.txt',\n",
      "     'KB_JB555_1896-11-09_01-00001.txt',\n",
      "     'KB_JB555_1897-01-17_01-00005.txt',\n",
      "     'KB_JB555_1897-01-29_01-00001.txt',\n",
      "     'KB_JB555_1897-01-31_01-00002.txt',\n",
      "     'KB_JB555_1897-06-12_01-00002.txt',\n",
      "     'KB_JB555_1897-06-15_01-00002.txt',\n",
      "     'KB_JB555_1897-07-28_01-00003.txt',\n",
      "     'KB_JB555_1897-09-19_01-00001.txt',\n",
      "     'KB_JB555_1897-12-20_01-00003.txt',\n",
      "     'KB_JB555_1898-02-28_01-00003.txt',\n",
      "     'KB_JB555_1898-03-11_01-00001.txt',\n",
      "     'KB_JB555_1898-03-21_01-00003.txt',\n",
      "     'KB_JB555_1898-07-07_01-00003.txt',\n",
      "     'KB_JB555_1898-07-28_01-00001.txt',\n",
      "     'KB_JB555_1898-08-07_01-00001.txt',\n",
      "     'KB_JB555_1898-08-14_01-00005.txt',\n",
      "     'KB_JB555_1898-09-09_01-00001.txt',\n",
      "     'KB_JB555_1898-12-22_01-00002.txt',\n",
      "     'KB_JB555_1899-01-13_01-00002.txt',\n",
      "     'KB_JB555_1899-01-23_01-00003.txt',\n",
      "     'KB_JB555_1899-02-02_01-00003.txt',\n",
      "     'KB_JB555_1899-04-29_01-00001.txt',\n",
      "     'KB_JB555_1899-06-07_01-00001.txt',\n",
      "     'KB_JB555_1899-06-07_01-00002.txt',\n",
      "     'KB_JB555_1899-09-09_01-00002.txt',\n",
      "     'KB_JB555_1899-09-17_01-00006.txt',\n",
      "     'KB_JB555_1899-09-28_01-00001.txt',\n",
      "     'KB_JB567_1890-05-08_01-00002.txt',\n",
      "     'KB_JB567_1890-11-14_01-00002.txt',\n",
      "     'KB_JB567_1890-11-26_01-00002.txt',\n",
      "     'KB_JB567_1891-08-05_01-00002.txt',\n",
      "     'KB_JB567_1891-08-14_01-00001.txt',\n",
      "     'KB_JB567_1891-10-16_01-00001.txt',\n",
      "     'KB_JB567_1892-05-03_01-00002.txt',\n",
      "     'KB_JB567_1892-06-25_01-00002.txt',\n",
      "     'KB_JB567_1892-07-17_01-00005.txt',\n",
      "     'KB_JB567_1892-07-19_01-00002.txt',\n",
      "     'KB_JB567_1892-07-22_01-00002.txt',\n",
      "     'KB_JB567_1892-07-28_01-00002.txt',\n",
      "     'KB_JB567_1892-08-28_01-00001.txt',\n",
      "     'KB_JB567_1892-09-10_01-00001.txt',\n",
      "     'KB_JB567_1892-09-11_01-00001.txt',\n",
      "     'KB_JB567_1892-09-12_01-00001.txt',\n",
      "     'KB_JB567_1892-09-16_01-00001.txt',\n",
      "     'KB_JB567_1892-09-25_01-00001.txt',\n",
      "     'KB_JB567_1892-09-30_01-00001.txt',\n",
      "     'KB_JB567_1892-10-25_01-00002.txt',\n",
      "     'KB_JB567_1892-12-03_01-00001.txt',\n",
      "     'KB_JB567_1892-12-30_01-00002.txt',\n",
      "     'KB_JB567_1893-01-10_01-00002.txt',\n",
      "     'KB_JB567_1893-02-11_01-00001.txt',\n",
      "     'KB_JB567_1893-04-09_01-00001.txt',\n",
      "     'KB_JB567_1893-12-28_01-00001.txt',\n",
      "     'KB_JB567_1894-01-31_01-00002.txt',\n",
      "     'KB_JB567_1894-11-08_01-00001.txt',\n",
      "     'KB_JB567_1895-02-20_01-00002.txt',\n",
      "     'KB_JB567_1895-03-03_01-00002.txt',\n",
      "     'KB_JB567_1895-04-08_01-00002.txt',\n",
      "     'KB_JB567_1895-04-12_01-00002.txt',\n",
      "     'KB_JB567_1895-05-06_01-00002.txt',\n",
      "     'KB_JB567_1895-06-11_01-00002.txt',\n",
      "     'KB_JB567_1895-08-09_01-00002.txt',\n",
      "     'KB_JB567_1895-08-25_01-00001.txt',\n",
      "     'KB_JB567_1895-09-30_01-00001.txt',\n",
      "     'KB_JB567_1896-02-21_01-00001.txt',\n",
      "     'KB_JB567_1896-08-16_01-00002.txt',\n",
      "     'KB_JB567_1896-09-05_01-00002.txt',\n",
      "     'KB_JB567_1897-01-30_01-00002.txt',\n",
      "     'KB_JB567_1897-05-31_01-00001.txt',\n",
      "     'KB_JB567_1897-07-28_01-00002.txt',\n",
      "     'KB_JB567_1897-09-21_01-00002.txt',\n",
      "     'KB_JB567_1897-10-14_01-00002.txt',\n",
      "     'KB_JB567_1897-12-05_01-00006.txt',\n",
      "     'KB_JB567_1898-08-14_01-00001.txt',\n",
      "     'KB_JB567_1898-08-18_01-00002.txt',\n",
      "     'KB_JB567_1898-10-27_01-00001.txt',\n",
      "     'KB_JB567_1898-11-29_01-00001.txt',\n",
      "     'KB_JB567_1898-12-14_01-00002.txt',\n",
      "     'KB_JB567_1898-12-18_01-00001.txt',\n",
      "     'KB_JB567_1899-01-17_01-00001.txt',\n",
      "     'KB_JB567_1899-01-18_01-00001.txt',\n",
      "     'KB_JB567_1899-10-11_01-00002.txt',\n",
      "     'KB_JB567_1899-10-19_01-00001.txt',\n",
      "     'KB_JB572_1896-02-07_01-00002.txt',\n",
      "     'KB_JB572_1896-03-16_01-00002.txt',\n",
      "     'KB_JB572_1896-04-08_01-00002.txt',\n",
      "     'KB_JB572_1896-04-12_01-00002.txt',\n",
      "     'KB_JB572_1896-10-15_01-00002.txt',\n",
      "     'KB_JB572_1897-04-13_01-00003.txt',\n",
      "     'KB_JB572_1897-05-23_02-00010.txt',\n",
      "     'KB_JB572_1897-07-14_01-00002.txt',\n",
      "     'KB_JB572_1897-10-21_01-00001.txt',\n",
      "     'KB_JB572_1898-02-21_01-00001.txt',\n",
      "     'KB_JB572_1898-05-12_01-00002.txt',\n",
      "     'KB_JB572_1898-08-08_01-00001.txt',\n",
      "     'KB_JB572_1898-08-11_01-00001.txt',\n",
      "     'KB_JB572_1898-09-03_01-00003.txt',\n",
      "     'KB_JB572_1898-09-06_01-00001.txt',\n",
      "     'KB_JB572_1898-09-09_01-00003.txt',\n",
      "     'KB_JB572_1899-01-11_01-00003.txt',\n",
      "     'KB_JB572_1899-04-05_01-00002.txt',\n",
      "     'KB_JB572_1899-05-17_01-00002.txt',\n",
      "     'KB_JB572_1899-07-25_01-00001.txt',\n",
      "     'KB_JB572_1899-10-13_01-00001.txt',\n",
      "     'KB_JB638_1890-05-08_01-00001.txt',\n",
      "     'KB_JB638_1890-05-12_01-00002.txt',\n",
      "     'KB_JB638_1890-06-10_01-00002.txt',\n",
      "     'KB_JB638_1890-07-23_01-00002.txt',\n",
      "     'KB_JB638_1890-11-17_01-00002.txt',\n",
      "     'KB_JB638_1890-12-11_01-00001.txt',\n",
      "     'KB_JB638_1890-12-13_01-00005.txt',\n",
      "     'KB_JB638_1891-01-21_01-00003.txt',\n",
      "     'KB_JB638_1891-01-29_01-00005.txt',\n",
      "     'KB_JB638_1891-03-28_01-00006.txt',\n",
      "     'KB_JB638_1891-04-18_01-00005.txt',\n",
      "     'KB_JB638_1891-05-02_01-00009.txt',\n",
      "     'KB_JB638_1891-08-03_01-00002.txt',\n",
      "     'KB_JB638_1892-02-23_01-00002.txt',\n",
      "     'KB_JB638_1892-04-01_01-00002.txt',\n",
      "     'KB_JB638_1892-04-12_01-00001.txt',\n",
      "     'KB_JB638_1892-04-19_01-00003.txt',\n",
      "     'KB_JB638_1892-05-02_01-00002.txt',\n",
      "     'KB_JB638_1892-05-11_01-00002.txt',\n",
      "     'KB_JB638_1892-06-10_01-00002.txt',\n",
      "     'KB_JB638_1892-06-15_01-00003.txt',\n",
      "     'KB_JB638_1892-07-16_01-00001.txt',\n",
      "     'KB_JB638_1892-07-16_01-00005.txt',\n",
      "     'KB_JB638_1892-07-30_01-00002.txt',\n",
      "     'KB_JB638_1892-07-30_01-00006.txt',\n",
      "     'KB_JB638_1892-08-13_01-00001.txt',\n",
      "     'KB_JB638_1892-08-13_01-00005.txt',\n",
      "     'KB_JB638_1892-08-17_01-00001.txt',\n",
      "     'KB_JB638_1892-09-10_01-00002.txt',\n",
      "     'KB_JB638_1892-09-14_01-00002.txt',\n",
      "     'KB_JB638_1892-09-23_01-00002.txt',\n",
      "     'KB_JB638_1892-10-29_01-00005.txt',\n",
      "     'KB_JB638_1892-11-12_01-00005.txt',\n",
      "     'KB_JB638_1892-12-01_01-00006.txt',\n",
      "     'KB_JB638_1892-12-12_01-00002.txt',\n",
      "     'KB_JB638_1892-12-17_01-00002.txt',\n",
      "     'KB_JB638_1892-12-20_01-00002.txt',\n",
      "     'KB_JB638_1892-12-29_01-00006.txt',\n",
      "     'KB_JB638_1893-03-20_01-00002.txt',\n",
      "     'KB_JB638_1893-04-08_01-00001.txt',\n",
      "     'KB_JB638_1893-04-08_01-00005.txt',\n",
      "     'KB_JB638_1893-04-22_01-00010.txt',\n",
      "     'KB_JB638_1893-05-20_01-00005.txt',\n",
      "     'KB_JB638_1893-07-07_01-00002.txt',\n",
      "     'KB_JB638_1893-07-08_01-00002.txt',\n",
      "     'KB_JB638_1893-07-17_01-00002.txt',\n",
      "     'KB_JB638_1893-07-19_01-00002.txt',\n",
      "     'KB_JB638_1893-07-21_01-00001.txt',\n",
      "     'KB_JB638_1893-07-21_01-00002.txt',\n",
      "     'KB_JB638_1893-07-29_01-00006.txt',\n",
      "     'KB_JB638_1893-08-10_01-00003.txt',\n",
      "     'KB_JB638_1894-02-01_01-00007.txt',\n",
      "     'KB_JB638_1894-02-15_01-00007.txt',\n",
      "     'KB_JB638_1894-03-15_01-00002.txt',\n",
      "     'KB_JB638_1894-06-12_01-00003.txt',\n",
      "     'KB_JB638_1894-06-14_01-00005.txt',\n",
      "     'KB_JB638_1894-09-01_01-00002.txt',\n",
      "     'KB_JB638_1894-10-24_01-00001.txt',\n",
      "     'KB_JB638_1894-10-31_01-00007.txt',\n",
      "     'KB_JB638_1894-11-28_01-00003.txt',\n",
      "     'KB_JB638_1895-02-20_01-00002.txt',\n",
      "     'KB_JB638_1895-04-08_01-00001.txt',\n",
      "     'KB_JB638_1896-01-21_01-00002.txt',\n",
      "     'KB_JB638_1896-03-21_01-00005.txt',\n",
      "     'KB_JB638_1896-06-17_01-00003.txt',\n",
      "     'KB_JB638_1896-08-29_01-00002.txt',\n",
      "     'KB_JB638_1896-10-28_01-00002.txt',\n",
      "     'KB_JB638_1897-01-13_01-00002.txt',\n",
      "     'KB_JB638_1897-01-30_01-00006.txt',\n",
      "     'KB_JB638_1897-02-06_01-00005.txt',\n",
      "     'KB_JB638_1897-09-10_01-00002.txt',\n",
      "     'KB_JB638_1897-09-15_01-00002.txt',\n",
      "     'KB_JB638_1897-10-01_01-00002.txt',\n",
      "     'KB_JB638_1898-04-14_01-00002.txt',\n",
      "     'KB_JB638_1898-04-29_01-00002.txt',\n",
      "     'KB_JB638_1898-05-13_01-00002.txt',\n",
      "     'KB_JB638_1898-05-23_01-00002.txt',\n",
      "     'KB_JB638_1898-05-26_01-00002.txt',\n",
      "     'KB_JB638_1898-06-06_01-00002.txt',\n",
      "     'KB_JB638_1898-07-29_01-00001.txt',\n",
      "     'KB_JB638_1898-09-09_01-00002.txt',\n",
      "     'KB_JB638_1898-09-10_01-00002.txt',\n",
      "     'KB_JB638_1898-09-16_01-00002.txt',\n",
      "     'KB_JB638_1898-09-19_01-00002.txt',\n",
      "     'KB_JB638_1898-09-21_01-00002.txt',\n",
      "     'KB_JB638_1898-09-22_01-00002.txt',\n",
      "     'KB_JB638_1898-10-07_01-00002.txt',\n",
      "     'KB_JB638_1899-01-07_01-00005.txt',\n",
      "     'KB_JB638_1899-01-13_01-00002.txt',\n",
      "     'KB_JB638_1899-04-15_01-00002.txt',\n",
      "     'KB_JB638_1899-05-08_01-00003.txt',\n",
      "     'KB_JB638_1899-06-07_01-00002.txt',\n",
      "     'KB_JB638_1899-08-02_01-00001.txt',\n",
      "     'KB_JB638_1899-09-02_01-00002.txt',\n",
      "     'KB_JB638_1899-09-09_02-00004.txt',\n",
      "     'KB_JB638_1899-09-29_01-00002.txt',\n",
      "     'KB_JB638_1899-11-25_01-00009.txt',\n",
      "     'KB_JB685_1894-05-25_01-0002.txt',\n",
      "     'KB_JB685_1894-11-09_01-0002.txt',\n",
      "     'KB_JB685_1894-11-17_01-0002.txt',\n",
      "     'KB_JB685_1895-03-28_01-0002.txt',\n",
      "     'KB_JB685_1895-04-14_01-0001.txt',\n",
      "     'KB_JB685_1895-04-21_01-0002.txt',\n",
      "     'KB_JB685_1895-08-27_01-0003.txt',\n",
      "     'KB_JB685_1895-08-31_01-0002.txt',\n",
      "     'KB_JB685_1896-02-02_01-0001.txt',\n",
      "     'KB_JB685_1896-04-02_01-0001.txt',\n",
      "     'KB_JB685_1896-05-13_01-0001.txt',\n",
      "     'KB_JB685_1896-05-14_01-0001.txt',\n",
      "     'KB_JB685_1896-08-05_01-0002.txt',\n",
      "     'KB_JB685_1896-12-15_01-0001.txt',\n",
      "     'KB_JB685_1897-09-18_01-0001.txt',\n",
      "     'KB_JB685_1898-07-09_01-0001.txt',\n",
      "     'KB_JB685_1898-08-06_01-0002.txt',\n",
      "     'KB_JB685_1898-09-02_01-0001.txt',\n",
      "     'KB_JB685_1898-09-20_01-0003.txt',\n",
      "     'KB_JB685_1899-01-04_01-0003.txt',\n",
      "     'KB_JB685_1899-03-19_01-0005.txt',\n",
      "     'KB_JB685_1899-09-09_01-0001.txt',\n",
      "     'KB_JB685_1899-10-10_01-0002.txt',\n",
      "     'KB_JB685_1899-12-06_01-0001.txt',\n",
      "     'KB_JB685_1899-12-11_01-0001.txt',\n",
      "     'KB_JB729_1895-07-11_01-00002.txt',\n",
      "     'KB_JB729_1895-08-23_01-00001.txt',\n",
      "     'KB_JB729_1896-02-04_01-00001.txt',\n",
      "     'KB_JB729_1896-09-22_01-00001.txt',\n",
      "     'KB_JB729_1896-10-25_01-00006.txt',\n",
      "     'KB_JB729_1897-01-01_01-00001.txt',\n",
      "     'KB_JB729_1897-04-13_01-00001.txt',\n",
      "     'KB_JB729_1897-06-13_01-00001.txt',\n",
      "     'KB_JB729_1897-12-15_01-00001.txt',\n",
      "     'KB_JB729_1898-04-04_01-00001.txt',\n",
      "     'KB_JB729_1898-07-24_01-00002.txt',\n",
      "     'KB_JB729_1898-08-07_01-00002.txt',\n",
      "     'KB_JB729_1898-12-30_01-00001.txt',\n",
      "     'KB_JB729_1899-01-18_01-00001.txt',\n",
      "     'KB_JB729_1899-02-05_01-00002.txt',\n",
      "     'KB_JB729_1899-06-24_01-00001.txt',\n",
      "     'KB_JB729_1899-09-09_01-00002.txt',\n",
      "     'KB_JB729_1899-09-10_01-00002.txt',\n",
      "     'KB_JB729_1899-11-14_01-00002.txt',\n",
      "     'KB_JB837_1891-01-26_01-00002.txt',\n",
      "     'KB_JB837_1892-02-06_01-00002.txt',\n",
      "     'KB_JB837_1892-03-10_01-00003.txt',\n",
      "     'KB_JB837_1892-03-28_01-00003.txt',\n",
      "     'KB_JB837_1892-06-24_01-00002.txt',\n",
      "     'KB_JB837_1892-10-10_01-00003.txt',\n",
      "     'KB_JB837_1893-03-13_01-00002.txt',\n",
      "     'KB_JB837_1894-02-26_01-00001.txt',\n",
      "     'KB_JB837_1894-10-24_01-00002.txt',\n",
      "     'KB_JB837_1894-10-26_01-00001.txt',\n",
      "     'KB_JB837_1894-10-27_01-00002.txt',\n",
      "     'KB_JB837_1895-02-20_01-00002.txt',\n",
      "     'KB_JB837_1896-04-06_01-00003.txt',\n",
      "     'KB_JB837_1896-06-08_01-00003.txt',\n",
      "     'KB_JB837_1896-08-21_01-00002.txt',\n",
      "     'KB_JB837_1896-09-16_01-00001.txt',\n",
      "     'KB_JB837_1896-12-06_01-00006.txt',\n",
      "     'KB_JB837_1897-05-09_02-00002.txt',\n",
      "     'KB_JB837_1897-07-18_01-00005.txt',\n",
      "     'KB_JB837_1897-10-02_01-00002.txt',\n",
      "     'KB_JB837_1897-10-03_01-00002.txt',\n",
      "     'KB_JB837_1897-11-17_01-00001.txt',\n",
      "     'KB_JB837_1897-12-27_01-00003.txt',\n",
      "     'KB_JB837_1898-03-08_01-00001.txt',\n",
      "     'KB_JB837_1898-04-11_01-00001.txt',\n",
      "     'KB_JB837_1898-08-02_01-00002.txt',\n",
      "     'KB_JB837_1898-08-04_01-00002.txt',\n",
      "     'KB_JB837_1898-08-06_01-00002.txt',\n",
      "     'KB_JB837_1898-08-07_01-00002.txt',\n",
      "     'KB_JB837_1898-09-15_01-00002.txt',\n",
      "     'KB_JB837_1898-09-19_01-00002.txt',\n",
      "     'KB_JB837_1898-10-08_01-00002.txt',\n",
      "     'KB_JB837_1899-04-16_01-00002.txt',\n",
      "     'KB_JB837_1899-09-04_01-00003.txt',\n",
      "     'KB_JB837_1899-09-11_01-00003.txt',\n",
      "     'KB_JB837_1899-10-11_01-00002.txt',\n",
      "     'KB_JB838_1890-06-16_01-00003.txt',\n",
      "     'KB_JB838_1890-10-31_01-00001.txt',\n",
      "     'KB_JB838_1890-11-21_01-00001.txt',\n",
      "     'KB_JB838_1890-11-24_01-00002.txt',\n",
      "     'KB_JB838_1891-02-24_01-00002.txt',\n",
      "     'KB_JB838_1891-07-18_01-00001.txt',\n",
      "     'KB_JB838_1892-02-24_01-00002.txt',\n",
      "     'KB_JB838_1892-02-25_01-00003.txt',\n",
      "     'KB_JB838_1892-10-01_01-00002.txt',\n",
      "     'KB_JB838_1892-12-08_01-00006.txt',\n",
      "     'KB_JB838_1893-05-18_01-00005.txt',\n",
      "     'KB_JB838_1893-10-30_01-00001.txt',\n",
      "     'KB_JB838_1894-02-14_01-00005.txt',\n",
      "     'KB_JB838_1894-09-13_01-00005.txt',\n",
      "     'KB_JB838_1894-10-25_01-00005.txt',\n",
      "     'KB_JB838_1895-02-16_01-00002.txt',\n",
      "     'KB_JB838_1895-03-25_01-00001.txt',\n",
      "     'KB_JB838_1895-08-15_01-00001.txt',\n",
      "     'KB_JB838_1895-10-29_01-00002.txt',\n",
      "     'KB_JB838_1896-02-10_01-00003.txt',\n",
      "     'KB_JB838_1896-05-27_01-00006.txt',\n",
      "     'KB_JB838_1896-07-23_01-00006.txt',\n",
      "     'KB_JB838_1896-07-29_01-00006.txt',\n",
      "     'KB_JB838_1896-12-13_01-00001.txt',\n",
      "     'KB_JB838_1897-02-11_01-00007.txt',\n",
      "     'KB_JB838_1897-04-12_01-00003.txt',\n",
      "     'KB_JB838_1897-09-15_01-00005.txt',\n",
      "     'KB_JB838_1897-09-15_01-00006.txt',\n",
      "     'KB_JB838_1897-10-01_01-00006.txt',\n",
      "     'KB_JB838_1898-02-26_01-00002.txt',\n",
      "     'KB_JB838_1898-03-10_01-00001.txt',\n",
      "     'KB_JB838_1898-08-07_01-00001.txt',\n",
      "     'KB_JB838_1898-08-24_01-00002.txt',\n",
      "     'KB_JB838_1898-09-02_01-00001.txt'],\n",
      " 2: ['KB_JB638_1892-02-16_01-00004.txt',\n",
      "     'KB_JB638_1892-02-18_01-00007.txt',\n",
      "     'KB_JB638_1892-02-27_01-00010.txt',\n",
      "     'KB_JB638_1892-02-29_01-00004.txt',\n",
      "     'KB_JB638_1892-03-02_01-00004.txt',\n",
      "     'KB_JB638_1892-03-12_01-00006.txt',\n",
      "     'KB_JB638_1892-03-17_01-00007.txt',\n",
      "     'KB_JB638_1892-04-08_01-00003.txt',\n",
      "     'KB_JB638_1892-04-09_01-00006.txt',\n",
      "     'KB_JB638_1892-04-16_01-00006.txt',\n",
      "     'KB_JB638_1892-04-23_01-00006.txt',\n",
      "     'KB_JB638_1892-04-28_01-00006.txt',\n",
      "     'KB_JB638_1892-04-29_01-00004.txt',\n",
      "     'KB_JB638_1892-05-02_01-00004.txt',\n",
      "     'KB_JB638_1892-05-03_01-00008.txt',\n",
      "     'KB_JB638_1892-05-05_01-00006.txt',\n",
      "     'KB_JB638_1892-05-10_01-00004.txt',\n",
      "     'KB_JB638_1892-05-12_01-00006.txt',\n",
      "     'KB_JB638_1892-05-14_01-00006.txt',\n",
      "     'KB_JB638_1892-05-16_01-00004.txt',\n",
      "     'KB_JB638_1892-05-19_01-00007.txt',\n",
      "     'KB_JB638_1892-05-21_01-00009.txt',\n",
      "     'KB_JB638_1892-05-28_01-00009.txt',\n",
      "     'KB_JB638_1892-05-30_01-00004.txt',\n",
      "     'KB_JB638_1892-06-10_01-00004.txt',\n",
      "     'KB_JB638_1892-06-15_01-00004.txt',\n",
      "     'KB_JB638_1892-06-16_01-00005.txt',\n",
      "     'KB_JB638_1892-06-18_01-00006.txt',\n",
      "     'KB_JB638_1892-06-18_01-00014.txt',\n",
      "     'KB_JB638_1892-06-20_01-00004.txt',\n",
      "     'KB_JB638_1892-06-25_01-00006.txt',\n",
      "     'KB_JB638_1892-06-27_01-00004.txt',\n",
      "     'KB_JB638_1892-07-01_01-00004.txt',\n",
      "     'KB_JB638_1892-07-02_01-00006.txt',\n",
      "     'KB_JB638_1892-07-04_01-00004.txt',\n",
      "     'KB_JB638_1892-07-07_01-00005.txt',\n",
      "     'KB_JB638_1892-07-08_01-00004.txt',\n",
      "     'KB_JB638_1892-07-16_01-00006.txt',\n",
      "     'KB_JB638_1892-07-20_01-00004.txt',\n",
      "     'KB_JB638_1892-07-21_01-00005.txt',\n",
      "     'KB_JB638_1892-07-23_01-00009.txt',\n",
      "     'KB_JB638_1892-07-25_01-00004.txt',\n",
      "     'KB_JB638_1892-07-26_01-00004.txt',\n",
      "     'KB_JB638_1892-08-08_01-00004.txt',\n",
      "     'KB_JB638_1892-08-11_01-00006.txt',\n",
      "     'KB_JB638_1892-08-13_01-00006.txt',\n",
      "     'KB_JB638_1892-08-18_01-00005.txt',\n",
      "     'KB_JB638_1892-08-20_01-00006.txt',\n",
      "     'KB_JB638_1892-08-27_01-00006.txt',\n",
      "     'KB_JB638_1892-09-03_01-00006.txt',\n",
      "     'KB_JB638_1892-09-05_01-00004.txt',\n",
      "     'KB_JB638_1892-09-06_01-00004.txt',\n",
      "     'KB_JB638_1892-09-08_01-00005.txt',\n",
      "     'KB_JB638_1892-09-10_01-00006.txt',\n",
      "     'KB_JB638_1892-09-12_01-00004.txt',\n",
      "     'KB_JB638_1892-09-17_01-00006.txt',\n",
      "     'KB_JB638_1892-09-19_01-00004.txt',\n",
      "     'KB_JB638_1892-09-29_01-00007.txt',\n",
      "     'KB_JB638_1892-10-01_01-00010.txt',\n",
      "     'KB_JB638_1892-10-03_01-00004.txt',\n",
      "     'KB_JB638_1892-10-06_01-00007.txt',\n",
      "     'KB_JB638_1892-10-08_01-00006.txt',\n",
      "     'KB_JB638_1892-10-10_01-00004.txt',\n",
      "     'KB_JB638_1892-10-12_01-00004.txt',\n",
      "     'KB_JB638_1892-10-15_01-00006.txt',\n",
      "     'KB_JB638_1892-10-24_01-00004.txt',\n",
      "     'KB_JB638_1892-10-29_01-00006.txt',\n",
      "     'KB_JB638_1892-11-03_01-00007.txt',\n",
      "     'KB_JB638_1892-11-05_01-00006.txt',\n",
      "     'KB_JB638_1892-11-07_01-00003.txt',\n",
      "     'KB_JB638_1892-11-09_01-00004.txt',\n",
      "     'KB_JB638_1892-11-10_01-00007.txt',\n",
      "     'KB_JB638_1892-11-12_01-00006.txt',\n",
      "     'KB_JB638_1892-11-17_01-00007.txt',\n",
      "     'KB_JB638_1892-11-21_01-00004.txt',\n",
      "     'KB_JB638_1892-11-24_01-00007.txt',\n",
      "     'KB_JB638_1892-12-10_01-00006.txt',\n",
      "     'KB_JB638_1892-12-12_01-00004.txt',\n",
      "     'KB_JB638_1892-12-15_01-00006.txt',\n",
      "     'KB_JB638_1892-12-17_01-00009.txt',\n",
      "     'KB_JB638_1892-12-22_01-00007.txt',\n",
      "     'KB_JB638_1892-12-27_01-00004.txt',\n",
      "     'KB_JB638_1893-01-05_01-00007.txt',\n",
      "     'KB_JB638_1893-01-07_01-00006.txt',\n",
      "     'KB_JB638_1893-01-09_01-00004.txt',\n",
      "     'KB_JB638_1893-01-17_01-00004.txt',\n",
      "     'KB_JB638_1893-01-19_01-00007.txt',\n",
      "     'KB_JB638_1893-01-21_01-00006.txt',\n",
      "     'KB_JB638_1893-01-26_01-00007.txt',\n",
      "     'KB_JB638_1893-01-30_01-00004.txt',\n",
      "     'KB_JB638_1893-02-02_01-00007.txt',\n",
      "     'KB_JB638_1893-02-04_01-00010.txt',\n",
      "     'KB_JB638_1893-02-09_01-00007.txt',\n",
      "     'KB_JB638_1893-02-11_01-00004.txt',\n",
      "     'KB_JB638_1893-02-14_01-00004.txt',\n",
      "     'KB_JB638_1893-02-16_01-00005.txt',\n",
      "     'KB_JB638_1893-02-18_01-00006.txt',\n",
      "     'KB_JB638_1893-02-20_01-00004.txt',\n",
      "     'KB_JB638_1893-02-23_01-00007.txt',\n",
      "     'KB_JB638_1893-03-02_01-00005.txt',\n",
      "     'KB_JB638_1893-03-04_01-00011.txt',\n",
      "     'KB_JB638_1893-03-21_01-00004.txt',\n",
      "     'KB_JB638_1893-03-27_01-00004.txt',\n",
      "     'KB_JB638_1893-03-30_01-00005.txt',\n",
      "     'KB_JB638_1893-04-01_01-00006.txt',\n",
      "     'KB_JB638_1893-04-06_01-00007.txt',\n",
      "     'KB_JB638_1893-04-08_01-00006.txt',\n",
      "     'KB_JB638_1893-04-13_01-00007.txt',\n",
      "     'KB_JB638_1893-04-18_01-00004.txt',\n",
      "     'KB_JB638_1893-04-27_01-00005.txt',\n",
      "     'KB_JB638_1893-05-04_01-00005.txt',\n",
      "     'KB_JB638_1893-05-10_01-00007.txt',\n",
      "     'KB_JB638_1893-05-13_02-00003.txt',\n",
      "     'KB_JB638_1893-05-18_01-00005.txt',\n",
      "     'KB_JB638_1893-05-20_01-00006.txt',\n",
      "     'KB_JB638_1893-05-23_01-00004.txt',\n",
      "     'KB_JB638_1893-05-25_01-00005.txt',\n",
      "     'KB_JB638_1893-05-27_01-00006.txt',\n",
      "     'KB_JB638_1893-05-29_01-00004.txt',\n",
      "     'KB_JB638_1893-06-01_01-00007.txt',\n",
      "     'KB_JB638_1893-06-03_01-00006.txt',\n",
      "     'KB_JB638_1893-06-08_01-00006.txt',\n",
      "     'KB_JB638_1893-06-29_01-00007.txt',\n",
      "     'KB_JB638_1893-07-06_01-00007.txt',\n",
      "     'KB_JB638_1893-07-12_01-00005.txt',\n",
      "     'KB_JB638_1893-07-15_01-00006.txt',\n",
      "     'KB_JB638_1893-07-22_01-00006.txt',\n",
      "     'KB_JB638_1893-08-05_01-00006.txt',\n",
      "     'KB_JB638_1893-08-10_01-00005.txt',\n",
      "     'KB_JB638_1893-08-12_01-00006.txt',\n",
      "     'KB_JB638_1893-08-17_01-00006.txt',\n",
      "     'KB_JB638_1893-08-26_01-00006.txt',\n",
      "     'KB_JB638_1893-08-31_01-00006.txt',\n",
      "     'KB_JB638_1893-09-02_01-00006.txt',\n",
      "     'KB_JB638_1893-09-04_01-00004.txt',\n",
      "     'KB_JB638_1893-09-16_01-00006.txt',\n",
      "     'KB_JB638_1893-12-09_01-00010.txt',\n",
      "     'KB_JB638_1893-12-11_01-00004.txt',\n",
      "     'KB_JB638_1893-12-12_01-00004.txt',\n",
      "     'KB_JB638_1893-12-16_01-00006.txt',\n",
      "     'KB_JB638_1893-12-21_01-00007.txt',\n",
      "     'KB_JB638_1893-12-23_01-00007.txt',\n",
      "     'KB_JB638_1893-12-26_01-00004.txt',\n",
      "     'KB_JB638_1893-12-30_01-00007.txt',\n",
      "     'KB_JB638_1894-01-01_01-00004.txt',\n",
      "     'KB_JB638_1894-01-02_01-00003.txt',\n",
      "     'KB_JB638_1894-01-04_01-00007.txt',\n",
      "     'KB_JB638_1894-01-06_01-00007.txt',\n",
      "     'KB_JB638_1894-01-08_01-00004.txt',\n",
      "     'KB_JB638_1894-01-13_01-00006.txt',\n",
      "     'KB_JB638_1894-01-20_01-00007.txt',\n",
      "     'KB_JB638_1894-01-22_01-00004.txt',\n",
      "     'KB_JB638_1894-01-27_01-00011.txt',\n",
      "     'KB_JB638_1894-02-02_01-00004.txt',\n",
      "     'KB_JB638_1894-02-03_01-00006.txt',\n",
      "     'KB_JB638_1894-02-08_01-00008.txt'],\n",
      " 3: ['KB_JB638_1892-03-18_01-00004.txt',\n",
      "     'KB_JB638_1892-04-01_01-00004.txt',\n",
      "     'KB_JB638_1892-04-04_01-00004.txt',\n",
      "     'KB_JB638_1892-04-20_01-00004.txt',\n",
      "     'KB_JB638_1892-04-21_01-00004.txt',\n",
      "     'KB_JB638_1892-04-22_01-00004.txt',\n",
      "     'KB_JB638_1892-04-27_01-00004.txt',\n",
      "     'KB_JB638_1892-05-06_01-00004.txt',\n",
      "     'KB_JB638_1892-05-11_01-00004.txt',\n",
      "     'KB_JB638_1892-05-18_01-00004.txt',\n",
      "     'KB_JB638_1892-05-20_01-00004.txt',\n",
      "     'KB_JB638_1892-05-27_01-00004.txt',\n",
      "     'KB_JB638_1892-05-31_01-00004.txt',\n",
      "     'KB_JB638_1892-06-02_01-00004.txt',\n",
      "     'KB_JB638_1892-06-03_01-00004.txt',\n",
      "     'KB_JB638_1892-06-06_01-00004.txt',\n",
      "     'KB_JB638_1892-06-08_01-00004.txt',\n",
      "     'KB_JB638_1892-06-09_01-00004.txt',\n",
      "     'KB_JB638_1892-06-21_01-00004.txt',\n",
      "     'KB_JB638_1892-06-24_01-00004.txt',\n",
      "     'KB_JB638_1892-06-29_01-00004.txt',\n",
      "     'KB_JB638_1892-08-05_01-00004.txt',\n",
      "     'KB_JB638_1892-08-10_01-00004.txt',\n",
      "     'KB_JB638_1892-08-12_01-00004.txt',\n",
      "     'KB_JB638_1892-08-14_01-00004.txt',\n",
      "     'KB_JB638_1892-08-19_01-00004.txt',\n",
      "     'KB_JB638_1892-08-25_01-00004.txt',\n",
      "     'KB_JB638_1892-08-31_01-00004.txt',\n",
      "     'KB_JB638_1892-09-01_01-00004.txt',\n",
      "     'KB_JB638_1892-09-14_01-00004.txt',\n",
      "     'KB_JB638_1892-09-15_01-00004.txt',\n",
      "     'KB_JB638_1892-10-07_01-00004.txt',\n",
      "     'KB_JB638_1892-10-13_01-00004.txt',\n",
      "     'KB_JB638_1892-10-14_01-00004.txt',\n",
      "     'KB_JB638_1892-10-19_01-00004.txt',\n",
      "     'KB_JB638_1892-10-21_01-00004.txt',\n",
      "     'KB_JB638_1892-10-26_01-00004.txt',\n",
      "     'KB_JB638_1892-10-28_01-00004.txt',\n",
      "     'KB_JB638_1892-11-02_01-00004.txt',\n",
      "     'KB_JB638_1892-11-11_01-00004.txt',\n",
      "     'KB_JB638_1892-11-16_01-00004.txt',\n",
      "     'KB_JB638_1892-11-18_01-00004.txt',\n",
      "     'KB_JB638_1892-11-22_01-00004.txt',\n",
      "     'KB_JB638_1892-11-23_01-00004.txt',\n",
      "     'KB_JB638_1892-11-28_01-00004.txt',\n",
      "     'KB_JB638_1892-12-06_01-00004.txt',\n",
      "     'KB_JB638_1892-12-07_01-00004.txt',\n",
      "     'KB_JB638_1892-12-09_01-00004.txt',\n",
      "     'KB_JB638_1892-12-14_01-00004.txt',\n",
      "     'KB_JB638_1892-12-21_01-00004.txt',\n",
      "     'KB_JB638_1892-12-28_01-00004.txt',\n",
      "     'KB_JB638_1893-01-02_01-00004.txt',\n",
      "     'KB_JB638_1893-01-16_01-00004.txt',\n",
      "     'KB_JB638_1893-01-18_01-00004.txt',\n",
      "     'KB_JB638_1893-01-24_01-00004.txt',\n",
      "     'KB_JB638_1893-01-25_01-00004.txt',\n",
      "     'KB_JB638_1893-01-27_01-00004.txt',\n",
      "     'KB_JB638_1893-02-01_01-00004.txt',\n",
      "     'KB_JB638_1893-02-08_01-00004.txt',\n",
      "     'KB_JB638_1893-02-17_01-00004.txt',\n",
      "     'KB_JB638_1893-02-22_01-00004.txt',\n",
      "     'KB_JB638_1893-02-28_01-00004.txt',\n",
      "     'KB_JB638_1893-03-22_01-00004.txt',\n",
      "     'KB_JB638_1893-03-29_01-00004.txt',\n",
      "     'KB_JB638_1893-04-05_01-00004.txt',\n",
      "     'KB_JB638_1893-04-12_01-00004.txt',\n",
      "     'KB_JB638_1893-04-21_01-00004.txt',\n",
      "     'KB_JB638_1893-05-17_01-00004.txt',\n",
      "     'KB_JB638_1893-05-19_01-00004.txt',\n",
      "     'KB_JB638_1893-05-24_01-00004.txt',\n",
      "     'KB_JB638_1893-05-26_01-00004.txt',\n",
      "     'KB_JB638_1893-05-30_01-00004.txt',\n",
      "     'KB_JB638_1893-05-31_01-00004.txt',\n",
      "     'KB_JB638_1893-06-07_01-00004.txt',\n",
      "     'KB_JB638_1893-06-09_01-00004.txt',\n",
      "     'KB_JB638_1893-06-21_01-00004.txt',\n",
      "     'KB_JB638_1893-07-18_01-00004.txt',\n",
      "     'KB_JB638_1893-07-21_01-00004.txt',\n",
      "     'KB_JB638_1893-07-25_01-00004.txt',\n",
      "     'KB_JB638_1893-08-02_01-00004.txt',\n",
      "     'KB_JB638_1893-08-11_01-00004.txt',\n",
      "     'KB_JB638_1893-08-14_01-00006.txt',\n",
      "     'KB_JB638_1893-08-18_01-00004.txt',\n",
      "     'KB_JB638_1893-08-22_01-00004.txt',\n",
      "     'KB_JB638_1893-08-23_01-00004.txt',\n",
      "     'KB_JB638_1893-08-29_01-00004.txt',\n",
      "     'KB_JB638_1893-09-06_01-00004.txt',\n",
      "     'KB_JB638_1893-09-08_01-00004.txt',\n",
      "     'KB_JB638_1893-09-12_01-00004.txt',\n",
      "     'KB_JB638_1893-09-13_01-00004.txt',\n",
      "     'KB_JB638_1893-09-15_01-00004.txt',\n",
      "     'KB_JB638_1893-09-22_01-00004.txt',\n",
      "     'KB_JB638_1893-09-27_01-00004.txt',\n",
      "     'KB_JB638_1893-09-29_01-00004.txt',\n",
      "     'KB_JB638_1893-12-13_01-00004.txt',\n",
      "     'KB_JB638_1893-12-19_01-00004.txt',\n",
      "     'KB_JB638_1893-12-20_01-00004.txt',\n",
      "     'KB_JB638_1893-12-29_01-00004.txt',\n",
      "     'KB_JB638_1894-01-03_01-00004.txt',\n",
      "     'KB_JB638_1894-01-09_01-00004.txt',\n",
      "     'KB_JB638_1894-01-10_01-00004.txt',\n",
      "     'KB_JB638_1894-01-16_01-00004.txt',\n",
      "     'KB_JB638_1894-01-19_01-00004.txt',\n",
      "     'KB_JB638_1894-01-24_01-00004.txt',\n",
      "     'KB_JB638_1894-01-30_01-00004.txt',\n",
      "     'KB_JB638_1894-01-31_01-00004.txt',\n",
      "     'KB_JB638_1894-02-06_01-00004.txt',\n",
      "     'KB_JB838_1895-10-26_01-00004.txt']}\n"
     ]
    }
   ],
   "source": [
    "pprint(dict(clustering))"
   ]
  },
  {
   "cell_type": "markdown",
   "metadata": {},
   "source": [
    "## Visualiser les clusters"
   ]
  },
  {
   "cell_type": "markdown",
   "metadata": {},
   "source": [
    "### Réduire les vecteurs à 2 dimensions à l'aide de l'algorithme PCA\n",
    "Cette étape est nécessaire afin de visualiser les documents dans un espace 2D\n",
    "\n",
    "https://fr.wikipedia.org/wiki/Analyse_en_composantes_principales"
   ]
  },
  {
   "cell_type": "code",
   "execution_count": 23,
   "metadata": {},
   "outputs": [],
   "source": [
    "pca = PCA(n_components=2)\n",
    "reduced_vectors = pca.fit_transform(tfidf_vectors.toarray())"
   ]
  },
  {
   "cell_type": "code",
   "execution_count": 24,
   "metadata": {},
   "outputs": [
    {
     "data": {
      "text/plain": [
       "array([[-0.24380556, -0.04208185],\n",
       "       [-0.25723113, -0.03728525],\n",
       "       [-0.26748512, -0.08643661],\n",
       "       [-0.24221068, -0.06613614],\n",
       "       [-0.2191543 , -0.07712128],\n",
       "       [-0.2867771 , -0.03594732],\n",
       "       [-0.31321041, -0.08136652],\n",
       "       [-0.33332155, -0.06074229],\n",
       "       [-0.31805747, -0.07481355],\n",
       "       [-0.31654628, -0.07682835]])"
      ]
     },
     "execution_count": 24,
     "metadata": {},
     "output_type": "execute_result"
    }
   ],
   "source": [
    "reduced_vectors[:10]"
   ]
  },
  {
   "cell_type": "markdown",
   "metadata": {},
   "source": [
    "### Générer le plot"
   ]
  },
  {
   "cell_type": "code",
   "execution_count": 25,
   "metadata": {},
   "outputs": [
    {
     "data": {
      "text/plain": [
       "<matplotlib.legend.Legend at 0x21a3d4fbee0>"
      ]
     },
     "execution_count": 25,
     "metadata": {},
     "output_type": "execute_result"
    },
    {
     "data": {
      "image/png": "[encoded data removed]",
      "text/plain": [
       "<Figure size 1000x1000 with 1 Axes>"
      ]
     },
     "metadata": {},
     "output_type": "display_data"
    }
   ],
   "source": [
    "x_axis = reduced_vectors[:, 0]\n",
    "y_axis = reduced_vectors[:, 1]\n",
    "\n",
    "plt.figure(figsize=(10,10))\n",
    "scatter = plt.scatter(x_axis, y_axis, s=100, c=clusters)\n",
    "\n",
    "# Ajouter les centroïdes\n",
    "centroids = pca.transform(km_model.cluster_centers_)\n",
    "plt.scatter(centroids[:, 0], centroids[:, 1],  marker = \"x\", s=100, linewidths = 2, color='black')\n",
    "\n",
    "# Ajouter la légende\n",
    "plt.legend(handles=scatter.legend_elements()[0], labels=set(clusters), title=\"Clusters\")"
   ]
  }
 ],
 "metadata": {
  "kernelspec": {
   "display_name": "Python 3.10.7 ('tac_venv': venv)",
   "language": "python",
   "name": "python3"
  },
  "language_info": {
   "codemirror_mode": {
    "name": "ipython",
    "version": 3
   },
   "file_extension": ".py",
   "mimetype": "text/x-python",
   "name": "python",
   "nbconvert_exporter": "python",
   "pygments_lexer": "ipython3",
   "version": "3.10.7"
  },
  "vscode": {
   "interpreter": {
    "hash": "a8d41ae7ddd47c1c5bcdf4d93273f711679029825c9920781e78233ab4778cb8"
   }
  }
 },
 "nbformat": 4,
 "nbformat_minor": 4
}
